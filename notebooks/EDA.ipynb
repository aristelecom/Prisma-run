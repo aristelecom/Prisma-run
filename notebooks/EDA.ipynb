{
  "cells": [
    {
      "cell_type": "markdown",
      "metadata": {
        "id": "M4IfNzgkJUEi"
      },
      "source": [
        "# Imports"
      ]
    },
    {
      "cell_type": "code",
      "execution_count": 55,
      "metadata": {
        "id": "1HZQ7Wg5JUEp"
      },
      "outputs": [],
      "source": [
        "# Imports\n",
        "import pandas as pd\n",
        "import numpy as np\n",
        "import os\n",
        "import matplotlib.pyplot as plt\n",
        "import seaborn as sns\n",
        "\n",
        "# Set Seaborn theme\n",
        "sns.set_theme(style=\"darkgrid\")\n",
        "\n",
        "# Constants definition\n",
        "ROOT_DIR = '../'\n",
        "DATASETS_DIR = os.path.join(ROOT_DIR, 'datasets')\n",
        "KPMG_DATASET_PATH = os.path.join(DATASETS_DIR, 'KPMG_VI_New_raw_data_update_final.xlsx')"
      ]
    },
    {
      "cell_type": "markdown",
      "metadata": {
        "id": "L7xjpuS_JUEr"
      },
      "source": [
        "# Load datasets"
      ]
    },
    {
      "cell_type": "markdown",
      "metadata": {
        "id": "rm5rolEqkVDt"
      },
      "source": [
        "Import datasets from the diferent excel sheets. Skipping first row when needed."
      ]
    },
    {
      "cell_type": "code",
      "execution_count": 56,
      "metadata": {
        "colab": {
          "base_uri": "https://localhost:8080/"
        },
        "id": "sDv1hJG6JUEr",
        "outputId": "ae0e5a2a-0d3b-42ee-8784-3f8bacbba079"
      },
      "outputs": [
        {
          "name": "stderr",
          "output_type": "stream",
          "text": [
            "C:\\Users\\Usuario\\AppData\\Local\\Temp\\ipykernel_3712\\3925331198.py:3: FutureWarning: Inferring datetime64[ns] from data containing strings is deprecated and will be removed in a future version. To retain the old behavior explicitly pass Series(data, dtype=datetime64[ns])\n",
            "  df_target_customers = pd.read_excel(KPMG_DATASET_PATH, \"NewCustomerList\", skiprows=[0])\n",
            "C:\\Users\\Usuario\\AppData\\Local\\Temp\\ipykernel_3712\\3925331198.py:4: FutureWarning: Inferring datetime64[ns] from data containing strings is deprecated and will be removed in a future version. To retain the old behavior explicitly pass Series(data, dtype=datetime64[ns])\n",
            "  df_customer_demographic = pd.read_excel(KPMG_DATASET_PATH, \"CustomerDemographic\")\n"
          ]
        }
      ],
      "source": [
        "# Import datasets from all excel sheets\n",
        "df_transactions = pd.read_excel(KPMG_DATASET_PATH, \"Transactions\", skiprows=[0])\n",
        "df_target_customers = pd.read_excel(KPMG_DATASET_PATH, \"NewCustomerList\", skiprows=[0])\n",
        "df_customer_demographic = pd.read_excel(KPMG_DATASET_PATH, \"CustomerDemographic\")\n",
        "df_customer_address = pd.read_excel(KPMG_DATASET_PATH, \"CustomerAddress\", skiprows=[0])"
      ]
    },
    {
      "cell_type": "markdown",
      "metadata": {
        "id": "Ss2B46AfJUEs"
      },
      "source": [
        "# Transactions"
      ]
    },
    {
      "cell_type": "markdown",
      "metadata": {
        "id": "jF3Q1mpXkiET"
      },
      "source": [
        "## Preprocessing\n",
        "Let's explore transactions dataframe."
      ]
    },
    {
      "cell_type": "code",
      "execution_count": 57,
      "metadata": {
        "colab": {
          "base_uri": "https://localhost:8080/"
        },
        "id": "2yG3hBXnJUEt",
        "outputId": "bd0b4bd8-5ddb-4b92-89ce-a8b23c0145fa"
      },
      "outputs": [
        {
          "name": "stdout",
          "output_type": "stream",
          "text": [
            "<class 'pandas.core.frame.DataFrame'>\n",
            "RangeIndex: 20000 entries, 0 to 19999\n",
            "Data columns (total 13 columns):\n",
            " #   Column                   Non-Null Count  Dtype         \n",
            "---  ------                   --------------  -----         \n",
            " 0   transaction_id           20000 non-null  int64         \n",
            " 1   product_id               20000 non-null  int64         \n",
            " 2   customer_id              20000 non-null  int64         \n",
            " 3   transaction_date         20000 non-null  datetime64[ns]\n",
            " 4   online_order             19640 non-null  float64       \n",
            " 5   order_status             20000 non-null  object        \n",
            " 6   brand                    19803 non-null  object        \n",
            " 7   product_line             19803 non-null  object        \n",
            " 8   product_class            19803 non-null  object        \n",
            " 9   product_size             19803 non-null  object        \n",
            " 10  list_price               20000 non-null  float64       \n",
            " 11  standard_cost            19803 non-null  float64       \n",
            " 12  product_first_sold_date  19803 non-null  float64       \n",
            "dtypes: datetime64[ns](1), float64(4), int64(3), object(5)\n",
            "memory usage: 2.0+ MB\n"
          ]
        }
      ],
      "source": [
        "df_transactions.info()"
      ]
    },
    {
      "cell_type": "markdown",
      "metadata": {
        "id": "aNItixA6ksCJ"
      },
      "source": [
        "We can see 360 null values in \"online_order\" and 197 null values on \"brand\", \"product_line\", \"product_class\", \"product_size\", \"standard_cost\" and \"product_first_sold_date\"."
      ]
    },
    {
      "cell_type": "code",
      "execution_count": 58,
      "metadata": {
        "colab": {
          "base_uri": "https://localhost:8080/",
          "height": 340
        },
        "id": "FJJ533crJUEt",
        "outputId": "008f4a19-86a8-467a-d235-c9749eaeab1e"
      },
      "outputs": [
        {
          "data": {
            "text/html": [
              "<div>\n",
              "<style scoped>\n",
              "    .dataframe tbody tr th:only-of-type {\n",
              "        vertical-align: middle;\n",
              "    }\n",
              "\n",
              "    .dataframe tbody tr th {\n",
              "        vertical-align: top;\n",
              "    }\n",
              "\n",
              "    .dataframe thead th {\n",
              "        text-align: right;\n",
              "    }\n",
              "</style>\n",
              "<table border=\"1\" class=\"dataframe\">\n",
              "  <thead>\n",
              "    <tr style=\"text-align: right;\">\n",
              "      <th></th>\n",
              "      <th>transaction_id</th>\n",
              "      <th>product_id</th>\n",
              "      <th>customer_id</th>\n",
              "      <th>transaction_date</th>\n",
              "      <th>online_order</th>\n",
              "      <th>order_status</th>\n",
              "      <th>brand</th>\n",
              "      <th>product_line</th>\n",
              "      <th>product_class</th>\n",
              "      <th>product_size</th>\n",
              "      <th>list_price</th>\n",
              "      <th>standard_cost</th>\n",
              "      <th>product_first_sold_date</th>\n",
              "    </tr>\n",
              "  </thead>\n",
              "  <tbody>\n",
              "    <tr>\n",
              "      <th>0</th>\n",
              "      <td>1</td>\n",
              "      <td>2</td>\n",
              "      <td>2950</td>\n",
              "      <td>2017-02-25</td>\n",
              "      <td>0.0</td>\n",
              "      <td>Approved</td>\n",
              "      <td>Solex</td>\n",
              "      <td>Standard</td>\n",
              "      <td>medium</td>\n",
              "      <td>medium</td>\n",
              "      <td>71.49</td>\n",
              "      <td>53.62</td>\n",
              "      <td>41245.0</td>\n",
              "    </tr>\n",
              "    <tr>\n",
              "      <th>1</th>\n",
              "      <td>2</td>\n",
              "      <td>3</td>\n",
              "      <td>3120</td>\n",
              "      <td>2017-05-21</td>\n",
              "      <td>1.0</td>\n",
              "      <td>Approved</td>\n",
              "      <td>Trek Bicycles</td>\n",
              "      <td>Standard</td>\n",
              "      <td>medium</td>\n",
              "      <td>large</td>\n",
              "      <td>2091.47</td>\n",
              "      <td>388.92</td>\n",
              "      <td>41701.0</td>\n",
              "    </tr>\n",
              "    <tr>\n",
              "      <th>2</th>\n",
              "      <td>3</td>\n",
              "      <td>37</td>\n",
              "      <td>402</td>\n",
              "      <td>2017-10-16</td>\n",
              "      <td>0.0</td>\n",
              "      <td>Approved</td>\n",
              "      <td>OHM Cycles</td>\n",
              "      <td>Standard</td>\n",
              "      <td>low</td>\n",
              "      <td>medium</td>\n",
              "      <td>1793.43</td>\n",
              "      <td>248.82</td>\n",
              "      <td>36361.0</td>\n",
              "    </tr>\n",
              "    <tr>\n",
              "      <th>3</th>\n",
              "      <td>4</td>\n",
              "      <td>88</td>\n",
              "      <td>3135</td>\n",
              "      <td>2017-08-31</td>\n",
              "      <td>0.0</td>\n",
              "      <td>Approved</td>\n",
              "      <td>Norco Bicycles</td>\n",
              "      <td>Standard</td>\n",
              "      <td>medium</td>\n",
              "      <td>medium</td>\n",
              "      <td>1198.46</td>\n",
              "      <td>381.10</td>\n",
              "      <td>36145.0</td>\n",
              "    </tr>\n",
              "    <tr>\n",
              "      <th>4</th>\n",
              "      <td>5</td>\n",
              "      <td>78</td>\n",
              "      <td>787</td>\n",
              "      <td>2017-10-01</td>\n",
              "      <td>1.0</td>\n",
              "      <td>Approved</td>\n",
              "      <td>Giant Bicycles</td>\n",
              "      <td>Standard</td>\n",
              "      <td>medium</td>\n",
              "      <td>large</td>\n",
              "      <td>1765.30</td>\n",
              "      <td>709.48</td>\n",
              "      <td>42226.0</td>\n",
              "    </tr>\n",
              "  </tbody>\n",
              "</table>\n",
              "</div>"
            ],
            "text/plain": [
              "   transaction_id  product_id  customer_id transaction_date  online_order  \\\n",
              "0               1           2         2950       2017-02-25           0.0   \n",
              "1               2           3         3120       2017-05-21           1.0   \n",
              "2               3          37          402       2017-10-16           0.0   \n",
              "3               4          88         3135       2017-08-31           0.0   \n",
              "4               5          78          787       2017-10-01           1.0   \n",
              "\n",
              "  order_status           brand product_line product_class product_size  \\\n",
              "0     Approved           Solex     Standard        medium       medium   \n",
              "1     Approved   Trek Bicycles     Standard        medium        large   \n",
              "2     Approved      OHM Cycles     Standard           low       medium   \n",
              "3     Approved  Norco Bicycles     Standard        medium       medium   \n",
              "4     Approved  Giant Bicycles     Standard        medium        large   \n",
              "\n",
              "   list_price  standard_cost  product_first_sold_date  \n",
              "0       71.49          53.62                  41245.0  \n",
              "1     2091.47         388.92                  41701.0  \n",
              "2     1793.43         248.82                  36361.0  \n",
              "3     1198.46         381.10                  36145.0  \n",
              "4     1765.30         709.48                  42226.0  "
            ]
          },
          "execution_count": 58,
          "metadata": {},
          "output_type": "execute_result"
        }
      ],
      "source": [
        "df_transactions.head()"
      ]
    },
    {
      "cell_type": "code",
      "execution_count": 59,
      "metadata": {
        "colab": {
          "base_uri": "https://localhost:8080/",
          "height": 300
        },
        "id": "DrU37DUkJUEu",
        "outputId": "936998f9-6529-4623-9ace-7156bc4d41a2"
      },
      "outputs": [
        {
          "data": {
            "text/html": [
              "<div>\n",
              "<style scoped>\n",
              "    .dataframe tbody tr th:only-of-type {\n",
              "        vertical-align: middle;\n",
              "    }\n",
              "\n",
              "    .dataframe tbody tr th {\n",
              "        vertical-align: top;\n",
              "    }\n",
              "\n",
              "    .dataframe thead th {\n",
              "        text-align: right;\n",
              "    }\n",
              "</style>\n",
              "<table border=\"1\" class=\"dataframe\">\n",
              "  <thead>\n",
              "    <tr style=\"text-align: right;\">\n",
              "      <th></th>\n",
              "      <th>transaction_id</th>\n",
              "      <th>product_id</th>\n",
              "      <th>customer_id</th>\n",
              "      <th>online_order</th>\n",
              "      <th>list_price</th>\n",
              "      <th>standard_cost</th>\n",
              "      <th>product_first_sold_date</th>\n",
              "    </tr>\n",
              "  </thead>\n",
              "  <tbody>\n",
              "    <tr>\n",
              "      <th>count</th>\n",
              "      <td>20000.000000</td>\n",
              "      <td>20000.00000</td>\n",
              "      <td>20000.000000</td>\n",
              "      <td>19640.000000</td>\n",
              "      <td>20000.000000</td>\n",
              "      <td>19803.000000</td>\n",
              "      <td>19803.000000</td>\n",
              "    </tr>\n",
              "    <tr>\n",
              "      <th>mean</th>\n",
              "      <td>10000.500000</td>\n",
              "      <td>45.36465</td>\n",
              "      <td>1738.246050</td>\n",
              "      <td>0.500458</td>\n",
              "      <td>1107.829449</td>\n",
              "      <td>556.046951</td>\n",
              "      <td>38199.776549</td>\n",
              "    </tr>\n",
              "    <tr>\n",
              "      <th>std</th>\n",
              "      <td>5773.647028</td>\n",
              "      <td>30.75359</td>\n",
              "      <td>1011.951046</td>\n",
              "      <td>0.500013</td>\n",
              "      <td>582.825242</td>\n",
              "      <td>405.955660</td>\n",
              "      <td>2875.201110</td>\n",
              "    </tr>\n",
              "    <tr>\n",
              "      <th>min</th>\n",
              "      <td>1.000000</td>\n",
              "      <td>0.00000</td>\n",
              "      <td>1.000000</td>\n",
              "      <td>0.000000</td>\n",
              "      <td>12.010000</td>\n",
              "      <td>7.210000</td>\n",
              "      <td>33259.000000</td>\n",
              "    </tr>\n",
              "    <tr>\n",
              "      <th>25%</th>\n",
              "      <td>5000.750000</td>\n",
              "      <td>18.00000</td>\n",
              "      <td>857.750000</td>\n",
              "      <td>0.000000</td>\n",
              "      <td>575.270000</td>\n",
              "      <td>215.140000</td>\n",
              "      <td>35667.000000</td>\n",
              "    </tr>\n",
              "    <tr>\n",
              "      <th>50%</th>\n",
              "      <td>10000.500000</td>\n",
              "      <td>44.00000</td>\n",
              "      <td>1736.000000</td>\n",
              "      <td>1.000000</td>\n",
              "      <td>1163.890000</td>\n",
              "      <td>507.580000</td>\n",
              "      <td>38216.000000</td>\n",
              "    </tr>\n",
              "    <tr>\n",
              "      <th>75%</th>\n",
              "      <td>15000.250000</td>\n",
              "      <td>72.00000</td>\n",
              "      <td>2613.000000</td>\n",
              "      <td>1.000000</td>\n",
              "      <td>1635.300000</td>\n",
              "      <td>795.100000</td>\n",
              "      <td>40672.000000</td>\n",
              "    </tr>\n",
              "    <tr>\n",
              "      <th>max</th>\n",
              "      <td>20000.000000</td>\n",
              "      <td>100.00000</td>\n",
              "      <td>5034.000000</td>\n",
              "      <td>1.000000</td>\n",
              "      <td>2091.470000</td>\n",
              "      <td>1759.850000</td>\n",
              "      <td>42710.000000</td>\n",
              "    </tr>\n",
              "  </tbody>\n",
              "</table>\n",
              "</div>"
            ],
            "text/plain": [
              "       transaction_id   product_id   customer_id  online_order    list_price  \\\n",
              "count    20000.000000  20000.00000  20000.000000  19640.000000  20000.000000   \n",
              "mean     10000.500000     45.36465   1738.246050      0.500458   1107.829449   \n",
              "std       5773.647028     30.75359   1011.951046      0.500013    582.825242   \n",
              "min          1.000000      0.00000      1.000000      0.000000     12.010000   \n",
              "25%       5000.750000     18.00000    857.750000      0.000000    575.270000   \n",
              "50%      10000.500000     44.00000   1736.000000      1.000000   1163.890000   \n",
              "75%      15000.250000     72.00000   2613.000000      1.000000   1635.300000   \n",
              "max      20000.000000    100.00000   5034.000000      1.000000   2091.470000   \n",
              "\n",
              "       standard_cost  product_first_sold_date  \n",
              "count   19803.000000             19803.000000  \n",
              "mean      556.046951             38199.776549  \n",
              "std       405.955660              2875.201110  \n",
              "min         7.210000             33259.000000  \n",
              "25%       215.140000             35667.000000  \n",
              "50%       507.580000             38216.000000  \n",
              "75%       795.100000             40672.000000  \n",
              "max      1759.850000             42710.000000  "
            ]
          },
          "execution_count": 59,
          "metadata": {},
          "output_type": "execute_result"
        }
      ],
      "source": [
        "df_transactions.describe()"
      ]
    },
    {
      "cell_type": "markdown",
      "metadata": {
        "id": "Q5mUwscmBNa2"
      },
      "source": [
        "Let's change 'online_order' column type to boolean."
      ]
    },
    {
      "cell_type": "code",
      "execution_count": 60,
      "metadata": {
        "colab": {
          "base_uri": "https://localhost:8080/"
        },
        "id": "KMu5A8LqBSxP",
        "outputId": "74f1a921-300f-4300-b315-a7df97015f9b"
      },
      "outputs": [
        {
          "data": {
            "text/plain": [
              "True     10189\n",
              "False     9811\n",
              "Name: online_order, dtype: int64"
            ]
          },
          "execution_count": 60,
          "metadata": {},
          "output_type": "execute_result"
        }
      ],
      "source": [
        "df_transactions[\"online_order\"] = df_transactions[\"online_order\"].astype('bool')\n",
        "df_transactions[\"online_order\"].value_counts()"
      ]
    },
    {
      "cell_type": "markdown",
      "metadata": {
        "id": "snw7htvoBsiS"
      },
      "source": [
        "Let's change 'order_status' column type to categorical."
      ]
    },
    {
      "cell_type": "code",
      "execution_count": 61,
      "metadata": {
        "colab": {
          "base_uri": "https://localhost:8080/"
        },
        "id": "JK2dZl_0Bxee",
        "outputId": "c8faac0f-47a1-427f-bf09-d40567bc69f6"
      },
      "outputs": [
        {
          "data": {
            "text/plain": [
              "CategoricalDtype(categories=['Approved', 'Cancelled'], ordered=False)"
            ]
          },
          "execution_count": 61,
          "metadata": {},
          "output_type": "execute_result"
        }
      ],
      "source": [
        "df_transactions[\"order_status\"] = df_transactions[\"order_status\"].astype('category')\n",
        "df_transactions[\"order_status\"].dtype"
      ]
    },
    {
      "cell_type": "markdown",
      "metadata": {
        "id": "gI9gIWCGl9wB"
      },
      "source": [
        "We explored the dataset, and \"product_id\" column is not realible, so let's drop it."
      ]
    },
    {
      "cell_type": "code",
      "execution_count": 62,
      "metadata": {
        "id": "f8NeyWwCJUEu"
      },
      "outputs": [],
      "source": [
        "df_transactions.drop(\"product_id\", axis=1, inplace=True)"
      ]
    },
    {
      "cell_type": "markdown",
      "metadata": {
        "id": "IuPTEiYZJUEv"
      },
      "source": [
        "It is safe to drop registers without product info (brand, product_line, etc) because represents less than %1 of the dataset (197 from 20000)."
      ]
    },
    {
      "cell_type": "code",
      "execution_count": 63,
      "metadata": {
        "colab": {
          "base_uri": "https://localhost:8080/",
          "height": 113
        },
        "id": "HIqzDiNhJUEv",
        "outputId": "28df89bd-474a-4743-b2b0-4e229abd7b9d"
      },
      "outputs": [
        {
          "data": {
            "text/html": [
              "<div>\n",
              "<style scoped>\n",
              "    .dataframe tbody tr th:only-of-type {\n",
              "        vertical-align: middle;\n",
              "    }\n",
              "\n",
              "    .dataframe tbody tr th {\n",
              "        vertical-align: top;\n",
              "    }\n",
              "\n",
              "    .dataframe thead th {\n",
              "        text-align: right;\n",
              "    }\n",
              "</style>\n",
              "<table border=\"1\" class=\"dataframe\">\n",
              "  <thead>\n",
              "    <tr style=\"text-align: right;\">\n",
              "      <th></th>\n",
              "      <th>transaction_id</th>\n",
              "      <th>customer_id</th>\n",
              "      <th>transaction_date</th>\n",
              "      <th>online_order</th>\n",
              "      <th>order_status</th>\n",
              "      <th>brand</th>\n",
              "      <th>product_line</th>\n",
              "      <th>product_class</th>\n",
              "      <th>product_size</th>\n",
              "      <th>list_price</th>\n",
              "      <th>standard_cost</th>\n",
              "      <th>product_first_sold_date</th>\n",
              "    </tr>\n",
              "  </thead>\n",
              "  <tbody>\n",
              "  </tbody>\n",
              "</table>\n",
              "</div>"
            ],
            "text/plain": [
              "Empty DataFrame\n",
              "Columns: [transaction_id, customer_id, transaction_date, online_order, order_status, brand, product_line, product_class, product_size, list_price, standard_cost, product_first_sold_date]\n",
              "Index: []"
            ]
          },
          "execution_count": 63,
          "metadata": {},
          "output_type": "execute_result"
        }
      ],
      "source": [
        "df_transactions = df_transactions[df_transactions['brand'].notna()]\n",
        "df_transactions[df_transactions[\"brand\"].isna()]"
      ]
    },
    {
      "cell_type": "markdown",
      "metadata": {
        "id": "lqVHwxudlf6F"
      },
      "source": [
        "In order to normalize the data, let's extract product information and put it into a df_products dataframe.\n",
        "\n",
        "Let's also create a new product_id column."
      ]
    },
    {
      "cell_type": "code",
      "execution_count": 64,
      "metadata": {
        "colab": {
          "base_uri": "https://localhost:8080/",
          "height": 206
        },
        "id": "C_APs19fJUEx",
        "outputId": "c88fc41d-39eb-40e9-ee1e-eedcda897c1f"
      },
      "outputs": [
        {
          "data": {
            "text/html": [
              "<div>\n",
              "<style scoped>\n",
              "    .dataframe tbody tr th:only-of-type {\n",
              "        vertical-align: middle;\n",
              "    }\n",
              "\n",
              "    .dataframe tbody tr th {\n",
              "        vertical-align: top;\n",
              "    }\n",
              "\n",
              "    .dataframe thead th {\n",
              "        text-align: right;\n",
              "    }\n",
              "</style>\n",
              "<table border=\"1\" class=\"dataframe\">\n",
              "  <thead>\n",
              "    <tr style=\"text-align: right;\">\n",
              "      <th></th>\n",
              "      <th>product_id</th>\n",
              "      <th>brand</th>\n",
              "      <th>product_line</th>\n",
              "      <th>product_class</th>\n",
              "      <th>product_size</th>\n",
              "    </tr>\n",
              "  </thead>\n",
              "  <tbody>\n",
              "    <tr>\n",
              "      <th>0</th>\n",
              "      <td>0</td>\n",
              "      <td>Giant Bicycles</td>\n",
              "      <td>Road</td>\n",
              "      <td>low</td>\n",
              "      <td>small</td>\n",
              "    </tr>\n",
              "    <tr>\n",
              "      <th>1</th>\n",
              "      <td>1</td>\n",
              "      <td>Giant Bicycles</td>\n",
              "      <td>Road</td>\n",
              "      <td>medium</td>\n",
              "      <td>medium</td>\n",
              "    </tr>\n",
              "    <tr>\n",
              "      <th>2</th>\n",
              "      <td>2</td>\n",
              "      <td>Giant Bicycles</td>\n",
              "      <td>Standard</td>\n",
              "      <td>high</td>\n",
              "      <td>medium</td>\n",
              "    </tr>\n",
              "    <tr>\n",
              "      <th>3</th>\n",
              "      <td>3</td>\n",
              "      <td>Giant Bicycles</td>\n",
              "      <td>Standard</td>\n",
              "      <td>high</td>\n",
              "      <td>small</td>\n",
              "    </tr>\n",
              "    <tr>\n",
              "      <th>4</th>\n",
              "      <td>4</td>\n",
              "      <td>Giant Bicycles</td>\n",
              "      <td>Standard</td>\n",
              "      <td>medium</td>\n",
              "      <td>large</td>\n",
              "    </tr>\n",
              "  </tbody>\n",
              "</table>\n",
              "</div>"
            ],
            "text/plain": [
              "   product_id           brand product_line product_class product_size\n",
              "0           0  Giant Bicycles         Road           low        small\n",
              "1           1  Giant Bicycles         Road        medium       medium\n",
              "2           2  Giant Bicycles     Standard          high       medium\n",
              "3           3  Giant Bicycles     Standard          high        small\n",
              "4           4  Giant Bicycles     Standard        medium        large"
            ]
          },
          "execution_count": 64,
          "metadata": {},
          "output_type": "execute_result"
        }
      ],
      "source": [
        "df_products = df_transactions[[\"transaction_id\", \"brand\", \"product_line\", \"product_class\", \"product_size\"]]\n",
        "df_products = df_products.groupby([\"brand\", \"product_line\", \"product_class\", \"product_size\"]).size().reset_index()\n",
        "df_products.drop(0, axis=1, inplace=True)\n",
        "df_products.reset_index(inplace=True)\n",
        "df_products.rename(columns={\"index\" : \"product_id\"}, inplace=True)\n",
        "df_products.head()"
      ]
    },
    {
      "cell_type": "markdown",
      "metadata": {
        "id": "ptGDA65inJ-_"
      },
      "source": [
        "Now we have a products dataframe, let's merge it with transactions dataframe on product information columns (\"brand\", \"product_line\", \"product_class\", \"product_size\").\n",
        "\n",
        "This will generate us a \"product_id\" column that properly link both tables."
      ]
    },
    {
      "cell_type": "code",
      "execution_count": 65,
      "metadata": {
        "id": "7PagD_65JUEy"
      },
      "outputs": [],
      "source": [
        "df_transactions = df_transactions.merge(df_products, how='left', on=[\"brand\", \"product_line\", \"product_class\", \"product_size\"])"
      ]
    },
    {
      "cell_type": "code",
      "execution_count": 66,
      "metadata": {
        "colab": {
          "base_uri": "https://localhost:8080/",
          "height": 340
        },
        "id": "MuQ08GWBJUEz",
        "outputId": "0a41e832-6836-47fb-baa1-e6c9c6d0b414"
      },
      "outputs": [
        {
          "data": {
            "text/html": [
              "<div>\n",
              "<style scoped>\n",
              "    .dataframe tbody tr th:only-of-type {\n",
              "        vertical-align: middle;\n",
              "    }\n",
              "\n",
              "    .dataframe tbody tr th {\n",
              "        vertical-align: top;\n",
              "    }\n",
              "\n",
              "    .dataframe thead th {\n",
              "        text-align: right;\n",
              "    }\n",
              "</style>\n",
              "<table border=\"1\" class=\"dataframe\">\n",
              "  <thead>\n",
              "    <tr style=\"text-align: right;\">\n",
              "      <th></th>\n",
              "      <th>transaction_id</th>\n",
              "      <th>customer_id</th>\n",
              "      <th>transaction_date</th>\n",
              "      <th>online_order</th>\n",
              "      <th>order_status</th>\n",
              "      <th>brand</th>\n",
              "      <th>product_line</th>\n",
              "      <th>product_class</th>\n",
              "      <th>product_size</th>\n",
              "      <th>list_price</th>\n",
              "      <th>standard_cost</th>\n",
              "      <th>product_first_sold_date</th>\n",
              "      <th>product_id</th>\n",
              "    </tr>\n",
              "  </thead>\n",
              "  <tbody>\n",
              "    <tr>\n",
              "      <th>0</th>\n",
              "      <td>1</td>\n",
              "      <td>2950</td>\n",
              "      <td>2017-02-25</td>\n",
              "      <td>False</td>\n",
              "      <td>Approved</td>\n",
              "      <td>Solex</td>\n",
              "      <td>Standard</td>\n",
              "      <td>medium</td>\n",
              "      <td>medium</td>\n",
              "      <td>71.49</td>\n",
              "      <td>53.62</td>\n",
              "      <td>41245.0</td>\n",
              "      <td>31</td>\n",
              "    </tr>\n",
              "    <tr>\n",
              "      <th>1</th>\n",
              "      <td>2</td>\n",
              "      <td>3120</td>\n",
              "      <td>2017-05-21</td>\n",
              "      <td>True</td>\n",
              "      <td>Approved</td>\n",
              "      <td>Trek Bicycles</td>\n",
              "      <td>Standard</td>\n",
              "      <td>medium</td>\n",
              "      <td>large</td>\n",
              "      <td>2091.47</td>\n",
              "      <td>388.92</td>\n",
              "      <td>41701.0</td>\n",
              "      <td>40</td>\n",
              "    </tr>\n",
              "    <tr>\n",
              "      <th>2</th>\n",
              "      <td>3</td>\n",
              "      <td>402</td>\n",
              "      <td>2017-10-16</td>\n",
              "      <td>False</td>\n",
              "      <td>Approved</td>\n",
              "      <td>OHM Cycles</td>\n",
              "      <td>Standard</td>\n",
              "      <td>low</td>\n",
              "      <td>medium</td>\n",
              "      <td>1793.43</td>\n",
              "      <td>248.82</td>\n",
              "      <td>36361.0</td>\n",
              "      <td>21</td>\n",
              "    </tr>\n",
              "    <tr>\n",
              "      <th>3</th>\n",
              "      <td>4</td>\n",
              "      <td>3135</td>\n",
              "      <td>2017-08-31</td>\n",
              "      <td>False</td>\n",
              "      <td>Approved</td>\n",
              "      <td>Norco Bicycles</td>\n",
              "      <td>Standard</td>\n",
              "      <td>medium</td>\n",
              "      <td>medium</td>\n",
              "      <td>1198.46</td>\n",
              "      <td>381.10</td>\n",
              "      <td>36145.0</td>\n",
              "      <td>15</td>\n",
              "    </tr>\n",
              "    <tr>\n",
              "      <th>4</th>\n",
              "      <td>5</td>\n",
              "      <td>787</td>\n",
              "      <td>2017-10-01</td>\n",
              "      <td>True</td>\n",
              "      <td>Approved</td>\n",
              "      <td>Giant Bicycles</td>\n",
              "      <td>Standard</td>\n",
              "      <td>medium</td>\n",
              "      <td>large</td>\n",
              "      <td>1765.30</td>\n",
              "      <td>709.48</td>\n",
              "      <td>42226.0</td>\n",
              "      <td>4</td>\n",
              "    </tr>\n",
              "  </tbody>\n",
              "</table>\n",
              "</div>"
            ],
            "text/plain": [
              "   transaction_id  customer_id transaction_date  online_order order_status  \\\n",
              "0               1         2950       2017-02-25         False     Approved   \n",
              "1               2         3120       2017-05-21          True     Approved   \n",
              "2               3          402       2017-10-16         False     Approved   \n",
              "3               4         3135       2017-08-31         False     Approved   \n",
              "4               5          787       2017-10-01          True     Approved   \n",
              "\n",
              "            brand product_line product_class product_size  list_price  \\\n",
              "0           Solex     Standard        medium       medium       71.49   \n",
              "1   Trek Bicycles     Standard        medium        large     2091.47   \n",
              "2      OHM Cycles     Standard           low       medium     1793.43   \n",
              "3  Norco Bicycles     Standard        medium       medium     1198.46   \n",
              "4  Giant Bicycles     Standard        medium        large     1765.30   \n",
              "\n",
              "   standard_cost  product_first_sold_date  product_id  \n",
              "0          53.62                  41245.0          31  \n",
              "1         388.92                  41701.0          40  \n",
              "2         248.82                  36361.0          21  \n",
              "3         381.10                  36145.0          15  \n",
              "4         709.48                  42226.0           4  "
            ]
          },
          "execution_count": 66,
          "metadata": {},
          "output_type": "execute_result"
        }
      ],
      "source": [
        "df_transactions.head()"
      ]
    },
    {
      "cell_type": "markdown",
      "metadata": {
        "id": "sE0FpFVmpqeB"
      },
      "source": [
        "With the product_id successfully added, we can now safely drop product related columns."
      ]
    },
    {
      "cell_type": "code",
      "execution_count": 67,
      "metadata": {
        "id": "T2H7L6kRJUEz"
      },
      "outputs": [],
      "source": [
        "df_transactions.drop([\"brand\", \"product_line\", \"product_class\", \"product_size\"], axis=1, inplace=True)"
      ]
    },
    {
      "cell_type": "code",
      "execution_count": 68,
      "metadata": {
        "colab": {
          "base_uri": "https://localhost:8080/",
          "height": 270
        },
        "id": "gtVB_HT5p_ZR",
        "outputId": "f57ef28d-969c-42fe-c9d1-bb96acf05cf5"
      },
      "outputs": [
        {
          "data": {
            "text/html": [
              "<div>\n",
              "<style scoped>\n",
              "    .dataframe tbody tr th:only-of-type {\n",
              "        vertical-align: middle;\n",
              "    }\n",
              "\n",
              "    .dataframe tbody tr th {\n",
              "        vertical-align: top;\n",
              "    }\n",
              "\n",
              "    .dataframe thead th {\n",
              "        text-align: right;\n",
              "    }\n",
              "</style>\n",
              "<table border=\"1\" class=\"dataframe\">\n",
              "  <thead>\n",
              "    <tr style=\"text-align: right;\">\n",
              "      <th></th>\n",
              "      <th>transaction_id</th>\n",
              "      <th>customer_id</th>\n",
              "      <th>transaction_date</th>\n",
              "      <th>online_order</th>\n",
              "      <th>order_status</th>\n",
              "      <th>list_price</th>\n",
              "      <th>standard_cost</th>\n",
              "      <th>product_first_sold_date</th>\n",
              "      <th>product_id</th>\n",
              "    </tr>\n",
              "  </thead>\n",
              "  <tbody>\n",
              "    <tr>\n",
              "      <th>0</th>\n",
              "      <td>1</td>\n",
              "      <td>2950</td>\n",
              "      <td>2017-02-25</td>\n",
              "      <td>False</td>\n",
              "      <td>Approved</td>\n",
              "      <td>71.49</td>\n",
              "      <td>53.62</td>\n",
              "      <td>41245.0</td>\n",
              "      <td>31</td>\n",
              "    </tr>\n",
              "    <tr>\n",
              "      <th>1</th>\n",
              "      <td>2</td>\n",
              "      <td>3120</td>\n",
              "      <td>2017-05-21</td>\n",
              "      <td>True</td>\n",
              "      <td>Approved</td>\n",
              "      <td>2091.47</td>\n",
              "      <td>388.92</td>\n",
              "      <td>41701.0</td>\n",
              "      <td>40</td>\n",
              "    </tr>\n",
              "    <tr>\n",
              "      <th>2</th>\n",
              "      <td>3</td>\n",
              "      <td>402</td>\n",
              "      <td>2017-10-16</td>\n",
              "      <td>False</td>\n",
              "      <td>Approved</td>\n",
              "      <td>1793.43</td>\n",
              "      <td>248.82</td>\n",
              "      <td>36361.0</td>\n",
              "      <td>21</td>\n",
              "    </tr>\n",
              "    <tr>\n",
              "      <th>3</th>\n",
              "      <td>4</td>\n",
              "      <td>3135</td>\n",
              "      <td>2017-08-31</td>\n",
              "      <td>False</td>\n",
              "      <td>Approved</td>\n",
              "      <td>1198.46</td>\n",
              "      <td>381.10</td>\n",
              "      <td>36145.0</td>\n",
              "      <td>15</td>\n",
              "    </tr>\n",
              "    <tr>\n",
              "      <th>4</th>\n",
              "      <td>5</td>\n",
              "      <td>787</td>\n",
              "      <td>2017-10-01</td>\n",
              "      <td>True</td>\n",
              "      <td>Approved</td>\n",
              "      <td>1765.30</td>\n",
              "      <td>709.48</td>\n",
              "      <td>42226.0</td>\n",
              "      <td>4</td>\n",
              "    </tr>\n",
              "  </tbody>\n",
              "</table>\n",
              "</div>"
            ],
            "text/plain": [
              "   transaction_id  customer_id transaction_date  online_order order_status  \\\n",
              "0               1         2950       2017-02-25         False     Approved   \n",
              "1               2         3120       2017-05-21          True     Approved   \n",
              "2               3          402       2017-10-16         False     Approved   \n",
              "3               4         3135       2017-08-31         False     Approved   \n",
              "4               5          787       2017-10-01          True     Approved   \n",
              "\n",
              "   list_price  standard_cost  product_first_sold_date  product_id  \n",
              "0       71.49          53.62                  41245.0          31  \n",
              "1     2091.47         388.92                  41701.0          40  \n",
              "2     1793.43         248.82                  36361.0          21  \n",
              "3     1198.46         381.10                  36145.0          15  \n",
              "4     1765.30         709.48                  42226.0           4  "
            ]
          },
          "execution_count": 68,
          "metadata": {},
          "output_type": "execute_result"
        }
      ],
      "source": [
        "df_transactions.head()"
      ]
    },
    {
      "cell_type": "markdown",
      "metadata": {
        "id": "DdENVEH6DG_2"
      },
      "source": [
        "## Final dataframe structure\n",
        "\n",
        "This is the final transactions dataframe:"
      ]
    },
    {
      "cell_type": "code",
      "execution_count": 69,
      "metadata": {
        "colab": {
          "base_uri": "https://localhost:8080/"
        },
        "id": "cfKklf7NDKqm",
        "outputId": "b717870d-f5c0-4a53-99b9-05c19e475133"
      },
      "outputs": [
        {
          "name": "stdout",
          "output_type": "stream",
          "text": [
            "<class 'pandas.core.frame.DataFrame'>\n",
            "Int64Index: 19803 entries, 0 to 19802\n",
            "Data columns (total 9 columns):\n",
            " #   Column                   Non-Null Count  Dtype         \n",
            "---  ------                   --------------  -----         \n",
            " 0   transaction_id           19803 non-null  int64         \n",
            " 1   customer_id              19803 non-null  int64         \n",
            " 2   transaction_date         19803 non-null  datetime64[ns]\n",
            " 3   online_order             19803 non-null  bool          \n",
            " 4   order_status             19803 non-null  category      \n",
            " 5   list_price               19803 non-null  float64       \n",
            " 6   standard_cost            19803 non-null  float64       \n",
            " 7   product_first_sold_date  19803 non-null  float64       \n",
            " 8   product_id               19803 non-null  int64         \n",
            "dtypes: bool(1), category(1), datetime64[ns](1), float64(3), int64(3)\n",
            "memory usage: 1.2 MB\n"
          ]
        }
      ],
      "source": [
        "df_transactions.info()"
      ]
    },
    {
      "cell_type": "markdown",
      "metadata": {
        "id": "vbT_h2Czo2fV"
      },
      "source": [
        "## Visualizations\n",
        "Now that we have a proper transactions dataframe, let's explore it a little.\n"
      ]
    },
    {
      "cell_type": "markdown",
      "metadata": {
        "id": "aA-Ht05jMrGg"
      },
      "source": [
        "How did the transactions behave over time?"
      ]
    },
    {
      "cell_type": "code",
      "execution_count": 70,
      "metadata": {
        "colab": {
          "base_uri": "https://localhost:8080/"
        },
        "id": "HcFnoayrN8BY",
        "outputId": "483e351e-d2fa-45ec-8b50-64b788aa1f45"
      },
      "outputs": [
        {
          "data": {
            "text/plain": [
              "(Timestamp('2017-01-01 00:00:00'), Timestamp('2017-12-30 00:00:00'))"
            ]
          },
          "execution_count": 70,
          "metadata": {},
          "output_type": "execute_result"
        }
      ],
      "source": [
        "df_transactions[\"transaction_date\"].min(),  df_transactions[\"transaction_date\"].max()"
      ]
    },
    {
      "cell_type": "markdown",
      "metadata": {
        "id": "n7ifcbgsOYwj"
      },
      "source": [
        "Since this dataset contains data only from 2017, let's quickly create a 'month' column in order to group data by it, and plot transaction count per month."
      ]
    },
    {
      "cell_type": "code",
      "execution_count": 71,
      "metadata": {
        "colab": {
          "base_uri": "https://localhost:8080/",
          "height": 426
        },
        "id": "tmwuUH3oPFew",
        "outputId": "a537e1b4-f6bb-42ca-f812-b175a8813603"
      },
      "outputs": [
        {
          "data": {
            "text/html": [
              "<div>\n",
              "<style scoped>\n",
              "    .dataframe tbody tr th:only-of-type {\n",
              "        vertical-align: middle;\n",
              "    }\n",
              "\n",
              "    .dataframe tbody tr th {\n",
              "        vertical-align: top;\n",
              "    }\n",
              "\n",
              "    .dataframe thead th {\n",
              "        text-align: right;\n",
              "    }\n",
              "</style>\n",
              "<table border=\"1\" class=\"dataframe\">\n",
              "  <thead>\n",
              "    <tr style=\"text-align: right;\">\n",
              "      <th></th>\n",
              "      <th>month</th>\n",
              "      <th>transaction_count</th>\n",
              "    </tr>\n",
              "  </thead>\n",
              "  <tbody>\n",
              "    <tr>\n",
              "      <th>0</th>\n",
              "      <td>1</td>\n",
              "      <td>1665</td>\n",
              "    </tr>\n",
              "    <tr>\n",
              "      <th>1</th>\n",
              "      <td>2</td>\n",
              "      <td>1612</td>\n",
              "    </tr>\n",
              "    <tr>\n",
              "      <th>2</th>\n",
              "      <td>3</td>\n",
              "      <td>1629</td>\n",
              "    </tr>\n",
              "    <tr>\n",
              "      <th>3</th>\n",
              "      <td>4</td>\n",
              "      <td>1641</td>\n",
              "    </tr>\n",
              "    <tr>\n",
              "      <th>4</th>\n",
              "      <td>5</td>\n",
              "      <td>1666</td>\n",
              "    </tr>\n",
              "    <tr>\n",
              "      <th>5</th>\n",
              "      <td>6</td>\n",
              "      <td>1564</td>\n",
              "    </tr>\n",
              "    <tr>\n",
              "      <th>6</th>\n",
              "      <td>7</td>\n",
              "      <td>1700</td>\n",
              "    </tr>\n",
              "    <tr>\n",
              "      <th>7</th>\n",
              "      <td>8</td>\n",
              "      <td>1735</td>\n",
              "    </tr>\n",
              "    <tr>\n",
              "      <th>8</th>\n",
              "      <td>9</td>\n",
              "      <td>1559</td>\n",
              "    </tr>\n",
              "    <tr>\n",
              "      <th>9</th>\n",
              "      <td>10</td>\n",
              "      <td>1751</td>\n",
              "    </tr>\n",
              "    <tr>\n",
              "      <th>10</th>\n",
              "      <td>11</td>\n",
              "      <td>1648</td>\n",
              "    </tr>\n",
              "    <tr>\n",
              "      <th>11</th>\n",
              "      <td>12</td>\n",
              "      <td>1633</td>\n",
              "    </tr>\n",
              "  </tbody>\n",
              "</table>\n",
              "</div>"
            ],
            "text/plain": [
              "    month  transaction_count\n",
              "0       1               1665\n",
              "1       2               1612\n",
              "2       3               1629\n",
              "3       4               1641\n",
              "4       5               1666\n",
              "5       6               1564\n",
              "6       7               1700\n",
              "7       8               1735\n",
              "8       9               1559\n",
              "9      10               1751\n",
              "10     11               1648\n",
              "11     12               1633"
            ]
          },
          "execution_count": 71,
          "metadata": {},
          "output_type": "execute_result"
        }
      ],
      "source": [
        "# Add month column\n",
        "df_transactions['month'] = df_transactions[\"transaction_date\"].dt.month\n",
        "# Dataframe grouping by month\n",
        "df_transactions_per_month = df_transactions.groupby(\"month\").size().reset_index()\n",
        "df_transactions_per_month.columns = [\"month\", \"transaction_count\"]\n",
        "df_transactions_per_month"
      ]
    },
    {
      "cell_type": "code",
      "execution_count": 72,
      "metadata": {
        "colab": {
          "base_uri": "https://localhost:8080/",
          "height": 432
        },
        "id": "g3ksGcQhMzpr",
        "outputId": "bb02e797-7c11-4b8d-8fa9-7dcb294a8573"
      },
      "outputs": [
        {
          "data": {
            "text/plain": [
              "Text(0.5, 1.0, 'Transactions accross 2017')"
            ]
          },
          "execution_count": 72,
          "metadata": {},
          "output_type": "execute_result"
        },
        {
          "data": {
            "image/png": "[encoded data removed]",
            "text/plain": [
              "<Figure size 576x432 with 1 Axes>"
            ]
          },
          "metadata": {},
          "output_type": "display_data"
        }
      ],
      "source": [
        "# Countplot\n",
        "plt.rcParams[\"figure.figsize\"] = (8,6)\n",
        "ax = sns.countplot(x=df_transactions[\"transaction_date\"].dt.month, data=df_transactions)\n",
        "ax.set_ylabel(\"Transaction count\")\n",
        "ax.set_xlabel(\"Months\")\n",
        "ax.set_title(\"Transactions accross 2017\", fontsize=20)"
      ]
    },
    {
      "cell_type": "markdown",
      "metadata": {
        "id": "Z8d-9aQ1MpxG"
      },
      "source": [
        "How many online and not online orders we have?"
      ]
    },
    {
      "cell_type": "code",
      "execution_count": 73,
      "metadata": {
        "colab": {
          "base_uri": "https://localhost:8080/"
        },
        "id": "Tx-oiIVmrUpy",
        "outputId": "7b1a247f-1793-462a-cf52-3287ae566829"
      },
      "outputs": [
        {
          "data": {
            "text/plain": [
              "online_order\n",
              "False     9706\n",
              "True     10097\n",
              "dtype: int64"
            ]
          },
          "execution_count": 73,
          "metadata": {},
          "output_type": "execute_result"
        }
      ],
      "source": [
        "df_transactions.groupby(\"online_order\").size()"
      ]
    },
    {
      "cell_type": "markdown",
      "metadata": {
        "id": "-JJgbKKesStH"
      },
      "source": [
        "Pretty even, how about order status?"
      ]
    },
    {
      "cell_type": "code",
      "execution_count": 74,
      "metadata": {
        "colab": {
          "base_uri": "https://localhost:8080/"
        },
        "id": "4x6VknL2sgCl",
        "outputId": "bd4fcaa8-53ed-41a1-ef65-38ec0dc14a93"
      },
      "outputs": [
        {
          "data": {
            "text/plain": [
              "order_status\n",
              "Approved     19625\n",
              "Cancelled      178\n",
              "dtype: int64"
            ]
          },
          "execution_count": 74,
          "metadata": {},
          "output_type": "execute_result"
        }
      ],
      "source": [
        "df_transactions.groupby(\"order_status\").size()"
      ]
    },
    {
      "cell_type": "markdown",
      "metadata": {
        "id": "iNSrN6ZosoqA"
      },
      "source": [
        "Less than 1% of the orders were cancelled.\n",
        "\n",
        "Let's look at list_price and standard_cost distribution."
      ]
    },
    {
      "cell_type": "code",
      "execution_count": 75,
      "metadata": {
        "colab": {
          "base_uri": "https://localhost:8080/",
          "height": 300
        },
        "id": "jVBabtjAtbt4",
        "outputId": "ea472da3-b323-4e1f-f0d0-5b805c8ae574"
      },
      "outputs": [
        {
          "data": {
            "text/html": [
              "<div>\n",
              "<style scoped>\n",
              "    .dataframe tbody tr th:only-of-type {\n",
              "        vertical-align: middle;\n",
              "    }\n",
              "\n",
              "    .dataframe tbody tr th {\n",
              "        vertical-align: top;\n",
              "    }\n",
              "\n",
              "    .dataframe thead th {\n",
              "        text-align: right;\n",
              "    }\n",
              "</style>\n",
              "<table border=\"1\" class=\"dataframe\">\n",
              "  <thead>\n",
              "    <tr style=\"text-align: right;\">\n",
              "      <th></th>\n",
              "      <th>list_price</th>\n",
              "      <th>standard_cost</th>\n",
              "    </tr>\n",
              "  </thead>\n",
              "  <tbody>\n",
              "    <tr>\n",
              "      <th>count</th>\n",
              "      <td>19803.000000</td>\n",
              "      <td>19803.000000</td>\n",
              "    </tr>\n",
              "    <tr>\n",
              "      <th>mean</th>\n",
              "      <td>1107.997866</td>\n",
              "      <td>556.046951</td>\n",
              "    </tr>\n",
              "    <tr>\n",
              "      <th>std</th>\n",
              "      <td>582.770460</td>\n",
              "      <td>405.955660</td>\n",
              "    </tr>\n",
              "    <tr>\n",
              "      <th>min</th>\n",
              "      <td>12.010000</td>\n",
              "      <td>7.210000</td>\n",
              "    </tr>\n",
              "    <tr>\n",
              "      <th>25%</th>\n",
              "      <td>575.270000</td>\n",
              "      <td>215.140000</td>\n",
              "    </tr>\n",
              "    <tr>\n",
              "      <th>50%</th>\n",
              "      <td>1163.890000</td>\n",
              "      <td>507.580000</td>\n",
              "    </tr>\n",
              "    <tr>\n",
              "      <th>75%</th>\n",
              "      <td>1635.300000</td>\n",
              "      <td>795.100000</td>\n",
              "    </tr>\n",
              "    <tr>\n",
              "      <th>max</th>\n",
              "      <td>2091.470000</td>\n",
              "      <td>1759.850000</td>\n",
              "    </tr>\n",
              "  </tbody>\n",
              "</table>\n",
              "</div>"
            ],
            "text/plain": [
              "         list_price  standard_cost\n",
              "count  19803.000000   19803.000000\n",
              "mean    1107.997866     556.046951\n",
              "std      582.770460     405.955660\n",
              "min       12.010000       7.210000\n",
              "25%      575.270000     215.140000\n",
              "50%     1163.890000     507.580000\n",
              "75%     1635.300000     795.100000\n",
              "max     2091.470000    1759.850000"
            ]
          },
          "execution_count": 75,
          "metadata": {},
          "output_type": "execute_result"
        }
      ],
      "source": [
        "df_transactions[[\"list_price\", \"standard_cost\"]].describe()"
      ]
    },
    {
      "cell_type": "markdown",
      "metadata": {
        "id": "Xirgttx_t1JX"
      },
      "source": [
        "The distributions look pretty balanced. Let's look if there is a correlation between both."
      ]
    },
    {
      "cell_type": "code",
      "execution_count": 76,
      "metadata": {
        "colab": {
          "base_uri": "https://localhost:8080/",
          "height": 415
        },
        "id": "XMH3MkVGrF8-",
        "outputId": "d37aec1d-37bf-40da-e9ad-b5c48d37298b"
      },
      "outputs": [
        {
          "data": {
            "image/png": "[encoded data removed]",
            "text/plain": [
              "<Figure size 576x432 with 1 Axes>"
            ]
          },
          "metadata": {},
          "output_type": "display_data"
        }
      ],
      "source": [
        "# Regplot\n",
        "plt.rcParams[\"figure.figsize\"] = (8,6)\n",
        "ax = sns.regplot(x=\"list_price\", y=\"standard_cost\", data=df_transactions)\n",
        "ax.set_ylabel(\"Order standard cost\")\n",
        "ax.set_xlabel(\"Order list price\")\n",
        "ax.set_title(\"Order list price vs Order standard cost\", fontsize=20)\n",
        "plt.show()"
      ]
    },
    {
      "cell_type": "markdown",
      "metadata": {
        "id": "YiopyxhduSOL"
      },
      "source": [
        "There is a light positive correlation between order list price and order standard cost.\n",
        "\n",
        "We can also see that list price is basically never lower that the standard cost, wich makes sense."
      ]
    },
    {
      "cell_type": "markdown",
      "metadata": {
        "id": "ngYUUAsoLJEb"
      },
      "source": [
        "# Products"
      ]
    },
    {
      "cell_type": "markdown",
      "metadata": {
        "id": "WvH__bGh6xcW"
      },
      "source": [
        "## Final dataframe structure\n",
        "\n",
        "Now that we have our products dataset, let's explore it."
      ]
    },
    {
      "cell_type": "code",
      "execution_count": 77,
      "metadata": {
        "colab": {
          "base_uri": "https://localhost:8080/"
        },
        "id": "KX69xNJ17E4s",
        "outputId": "f21b808d-8694-4ec7-c8ff-a9edcbedc486"
      },
      "outputs": [
        {
          "name": "stdout",
          "output_type": "stream",
          "text": [
            "<class 'pandas.core.frame.DataFrame'>\n",
            "RangeIndex: 49 entries, 0 to 48\n",
            "Data columns (total 5 columns):\n",
            " #   Column         Non-Null Count  Dtype \n",
            "---  ------         --------------  ----- \n",
            " 0   product_id     49 non-null     int64 \n",
            " 1   brand          49 non-null     object\n",
            " 2   product_line   49 non-null     object\n",
            " 3   product_class  49 non-null     object\n",
            " 4   product_size   49 non-null     object\n",
            "dtypes: int64(1), object(4)\n",
            "memory usage: 2.0+ KB\n"
          ]
        }
      ],
      "source": [
        "df_products.info()"
      ]
    },
    {
      "cell_type": "code",
      "execution_count": 78,
      "metadata": {
        "colab": {
          "base_uri": "https://localhost:8080/",
          "height": 206
        },
        "id": "-knDzVmj7Omx",
        "outputId": "fbaf2749-a64c-4e84-b4ce-207e30e1351d"
      },
      "outputs": [
        {
          "data": {
            "text/html": [
              "<div>\n",
              "<style scoped>\n",
              "    .dataframe tbody tr th:only-of-type {\n",
              "        vertical-align: middle;\n",
              "    }\n",
              "\n",
              "    .dataframe tbody tr th {\n",
              "        vertical-align: top;\n",
              "    }\n",
              "\n",
              "    .dataframe thead th {\n",
              "        text-align: right;\n",
              "    }\n",
              "</style>\n",
              "<table border=\"1\" class=\"dataframe\">\n",
              "  <thead>\n",
              "    <tr style=\"text-align: right;\">\n",
              "      <th></th>\n",
              "      <th>product_id</th>\n",
              "      <th>brand</th>\n",
              "      <th>product_line</th>\n",
              "      <th>product_class</th>\n",
              "      <th>product_size</th>\n",
              "    </tr>\n",
              "  </thead>\n",
              "  <tbody>\n",
              "    <tr>\n",
              "      <th>0</th>\n",
              "      <td>0</td>\n",
              "      <td>Giant Bicycles</td>\n",
              "      <td>Road</td>\n",
              "      <td>low</td>\n",
              "      <td>small</td>\n",
              "    </tr>\n",
              "    <tr>\n",
              "      <th>1</th>\n",
              "      <td>1</td>\n",
              "      <td>Giant Bicycles</td>\n",
              "      <td>Road</td>\n",
              "      <td>medium</td>\n",
              "      <td>medium</td>\n",
              "    </tr>\n",
              "    <tr>\n",
              "      <th>2</th>\n",
              "      <td>2</td>\n",
              "      <td>Giant Bicycles</td>\n",
              "      <td>Standard</td>\n",
              "      <td>high</td>\n",
              "      <td>medium</td>\n",
              "    </tr>\n",
              "    <tr>\n",
              "      <th>3</th>\n",
              "      <td>3</td>\n",
              "      <td>Giant Bicycles</td>\n",
              "      <td>Standard</td>\n",
              "      <td>high</td>\n",
              "      <td>small</td>\n",
              "    </tr>\n",
              "    <tr>\n",
              "      <th>4</th>\n",
              "      <td>4</td>\n",
              "      <td>Giant Bicycles</td>\n",
              "      <td>Standard</td>\n",
              "      <td>medium</td>\n",
              "      <td>large</td>\n",
              "    </tr>\n",
              "  </tbody>\n",
              "</table>\n",
              "</div>"
            ],
            "text/plain": [
              "   product_id           brand product_line product_class product_size\n",
              "0           0  Giant Bicycles         Road           low        small\n",
              "1           1  Giant Bicycles         Road        medium       medium\n",
              "2           2  Giant Bicycles     Standard          high       medium\n",
              "3           3  Giant Bicycles     Standard          high        small\n",
              "4           4  Giant Bicycles     Standard        medium        large"
            ]
          },
          "execution_count": 78,
          "metadata": {},
          "output_type": "execute_result"
        }
      ],
      "source": [
        "df_products.head()"
      ]
    },
    {
      "cell_type": "markdown",
      "metadata": {
        "id": "32VpjZ1h7Wp2"
      },
      "source": [
        "## Visualizations\n",
        "How many products per brand and product_line are there?"
      ]
    },
    {
      "cell_type": "code",
      "execution_count": 79,
      "metadata": {
        "colab": {
          "base_uri": "https://localhost:8080/",
          "height": 442
        },
        "id": "wtlXU44w8N4q",
        "outputId": "66c6d48c-0847-4e33-fb5e-f58a53dc578d"
      },
      "outputs": [
        {
          "data": {
            "image/png": "[encoded data removed]",
            "text/plain": [
              "<Figure size 576x432 with 1 Axes>"
            ]
          },
          "metadata": {},
          "output_type": "display_data"
        }
      ],
      "source": [
        "# Countplot\n",
        "plt.rcParams[\"figure.figsize\"] = (8,6)\n",
        "ax = sns.countplot(\n",
        "    data=df_products,\n",
        "    x=\"brand\",\n",
        "    order = df_products['brand'].value_counts().index,\n",
        "    hue=\"product_line\"\n",
        ")\n",
        "ax.set_ylabel(\"Product count\")\n",
        "ax.set_xlabel(\"Brand\")\n",
        "ax.set_title(\"Products Brands and Lines\", fontsize=20)\n",
        "plt.xticks(rotation = 20)\n",
        "plt.show()"
      ]
    },
    {
      "cell_type": "markdown",
      "metadata": {
        "id": "ncvwuLD9_-T8"
      },
      "source": [
        "It seems that the best selling product lines are 'Road' and 'Standard'.\n",
        "\n",
        "Furthermore, it can be seen that only the top 2 selling brands have sold the 'Mountain' product line.\n",
        "\n",
        "At the same time, only the other 4 remaining brands have sold the 'Touring' product line."
      ]
    },
    {
      "cell_type": "markdown",
      "metadata": {
        "id": "FeRz6GZuJUEz"
      },
      "source": [
        "# Customers\n",
        "We have 3 customers datasets. Let's explore them."
      ]
    },
    {
      "cell_type": "markdown",
      "metadata": {
        "id": "rB5dQ3NkJUE0"
      },
      "source": [
        "## Customer address"
      ]
    },
    {
      "cell_type": "markdown",
      "metadata": {
        "id": "EO0bccskoQ0b"
      },
      "source": [
        "This dataset contains information about customer's locations."
      ]
    },
    {
      "cell_type": "code",
      "execution_count": 80,
      "metadata": {
        "colab": {
          "base_uri": "https://localhost:8080/"
        },
        "id": "wJ7NTMEZzpC6",
        "outputId": "1ba5007b-4c2c-4ced-b8d1-df3ce152c9b1"
      },
      "outputs": [
        {
          "name": "stdout",
          "output_type": "stream",
          "text": [
            "<class 'pandas.core.frame.DataFrame'>\n",
            "RangeIndex: 3999 entries, 0 to 3998\n",
            "Data columns (total 6 columns):\n",
            " #   Column              Non-Null Count  Dtype \n",
            "---  ------              --------------  ----- \n",
            " 0   customer_id         3999 non-null   int64 \n",
            " 1   address             3999 non-null   object\n",
            " 2   postcode            3999 non-null   int64 \n",
            " 3   state               3999 non-null   object\n",
            " 4   country             3999 non-null   object\n",
            " 5   property_valuation  3999 non-null   int64 \n",
            "dtypes: int64(3), object(3)\n",
            "memory usage: 187.6+ KB\n"
          ]
        }
      ],
      "source": [
        "df_customer_address.info()"
      ]
    },
    {
      "cell_type": "code",
      "execution_count": 81,
      "metadata": {
        "colab": {
          "base_uri": "https://localhost:8080/",
          "height": 206
        },
        "id": "_OsOqBRNztLp",
        "outputId": "b840c667-6082-4bf3-9438-ffe4ce403a38"
      },
      "outputs": [
        {
          "data": {
            "text/html": [
              "<div>\n",
              "<style scoped>\n",
              "    .dataframe tbody tr th:only-of-type {\n",
              "        vertical-align: middle;\n",
              "    }\n",
              "\n",
              "    .dataframe tbody tr th {\n",
              "        vertical-align: top;\n",
              "    }\n",
              "\n",
              "    .dataframe thead th {\n",
              "        text-align: right;\n",
              "    }\n",
              "</style>\n",
              "<table border=\"1\" class=\"dataframe\">\n",
              "  <thead>\n",
              "    <tr style=\"text-align: right;\">\n",
              "      <th></th>\n",
              "      <th>customer_id</th>\n",
              "      <th>address</th>\n",
              "      <th>postcode</th>\n",
              "      <th>state</th>\n",
              "      <th>country</th>\n",
              "      <th>property_valuation</th>\n",
              "    </tr>\n",
              "  </thead>\n",
              "  <tbody>\n",
              "    <tr>\n",
              "      <th>0</th>\n",
              "      <td>1</td>\n",
              "      <td>060 Morning Avenue</td>\n",
              "      <td>2016</td>\n",
              "      <td>New South Wales</td>\n",
              "      <td>Australia</td>\n",
              "      <td>10</td>\n",
              "    </tr>\n",
              "    <tr>\n",
              "      <th>1</th>\n",
              "      <td>2</td>\n",
              "      <td>6 Meadow Vale Court</td>\n",
              "      <td>2153</td>\n",
              "      <td>New South Wales</td>\n",
              "      <td>Australia</td>\n",
              "      <td>10</td>\n",
              "    </tr>\n",
              "    <tr>\n",
              "      <th>2</th>\n",
              "      <td>4</td>\n",
              "      <td>0 Holy Cross Court</td>\n",
              "      <td>4211</td>\n",
              "      <td>QLD</td>\n",
              "      <td>Australia</td>\n",
              "      <td>9</td>\n",
              "    </tr>\n",
              "    <tr>\n",
              "      <th>3</th>\n",
              "      <td>5</td>\n",
              "      <td>17979 Del Mar Point</td>\n",
              "      <td>2448</td>\n",
              "      <td>New South Wales</td>\n",
              "      <td>Australia</td>\n",
              "      <td>4</td>\n",
              "    </tr>\n",
              "    <tr>\n",
              "      <th>4</th>\n",
              "      <td>6</td>\n",
              "      <td>9 Oakridge Court</td>\n",
              "      <td>3216</td>\n",
              "      <td>VIC</td>\n",
              "      <td>Australia</td>\n",
              "      <td>9</td>\n",
              "    </tr>\n",
              "  </tbody>\n",
              "</table>\n",
              "</div>"
            ],
            "text/plain": [
              "   customer_id              address  postcode            state    country  \\\n",
              "0            1   060 Morning Avenue      2016  New South Wales  Australia   \n",
              "1            2  6 Meadow Vale Court      2153  New South Wales  Australia   \n",
              "2            4   0 Holy Cross Court      4211              QLD  Australia   \n",
              "3            5  17979 Del Mar Point      2448  New South Wales  Australia   \n",
              "4            6     9 Oakridge Court      3216              VIC  Australia   \n",
              "\n",
              "   property_valuation  \n",
              "0                  10  \n",
              "1                  10  \n",
              "2                   9  \n",
              "3                   4  \n",
              "4                   9  "
            ]
          },
          "execution_count": 81,
          "metadata": {},
          "output_type": "execute_result"
        }
      ],
      "source": [
        "df_customer_address.head()"
      ]
    },
    {
      "cell_type": "code",
      "execution_count": 82,
      "metadata": {
        "colab": {
          "base_uri": "https://localhost:8080/",
          "height": 300
        },
        "id": "pbUsRpEpz0bS",
        "outputId": "e129123b-bd1f-4142-8433-f99b46787dc1"
      },
      "outputs": [
        {
          "data": {
            "text/html": [
              "<div>\n",
              "<style scoped>\n",
              "    .dataframe tbody tr th:only-of-type {\n",
              "        vertical-align: middle;\n",
              "    }\n",
              "\n",
              "    .dataframe tbody tr th {\n",
              "        vertical-align: top;\n",
              "    }\n",
              "\n",
              "    .dataframe thead th {\n",
              "        text-align: right;\n",
              "    }\n",
              "</style>\n",
              "<table border=\"1\" class=\"dataframe\">\n",
              "  <thead>\n",
              "    <tr style=\"text-align: right;\">\n",
              "      <th></th>\n",
              "      <th>customer_id</th>\n",
              "      <th>postcode</th>\n",
              "      <th>property_valuation</th>\n",
              "    </tr>\n",
              "  </thead>\n",
              "  <tbody>\n",
              "    <tr>\n",
              "      <th>count</th>\n",
              "      <td>3999.000000</td>\n",
              "      <td>3999.000000</td>\n",
              "      <td>3999.000000</td>\n",
              "    </tr>\n",
              "    <tr>\n",
              "      <th>mean</th>\n",
              "      <td>2003.987997</td>\n",
              "      <td>2985.755939</td>\n",
              "      <td>7.514379</td>\n",
              "    </tr>\n",
              "    <tr>\n",
              "      <th>std</th>\n",
              "      <td>1154.576912</td>\n",
              "      <td>844.878364</td>\n",
              "      <td>2.824663</td>\n",
              "    </tr>\n",
              "    <tr>\n",
              "      <th>min</th>\n",
              "      <td>1.000000</td>\n",
              "      <td>2000.000000</td>\n",
              "      <td>1.000000</td>\n",
              "    </tr>\n",
              "    <tr>\n",
              "      <th>25%</th>\n",
              "      <td>1004.500000</td>\n",
              "      <td>2200.000000</td>\n",
              "      <td>6.000000</td>\n",
              "    </tr>\n",
              "    <tr>\n",
              "      <th>50%</th>\n",
              "      <td>2004.000000</td>\n",
              "      <td>2768.000000</td>\n",
              "      <td>8.000000</td>\n",
              "    </tr>\n",
              "    <tr>\n",
              "      <th>75%</th>\n",
              "      <td>3003.500000</td>\n",
              "      <td>3750.000000</td>\n",
              "      <td>10.000000</td>\n",
              "    </tr>\n",
              "    <tr>\n",
              "      <th>max</th>\n",
              "      <td>4003.000000</td>\n",
              "      <td>4883.000000</td>\n",
              "      <td>12.000000</td>\n",
              "    </tr>\n",
              "  </tbody>\n",
              "</table>\n",
              "</div>"
            ],
            "text/plain": [
              "       customer_id     postcode  property_valuation\n",
              "count  3999.000000  3999.000000         3999.000000\n",
              "mean   2003.987997  2985.755939            7.514379\n",
              "std    1154.576912   844.878364            2.824663\n",
              "min       1.000000  2000.000000            1.000000\n",
              "25%    1004.500000  2200.000000            6.000000\n",
              "50%    2004.000000  2768.000000            8.000000\n",
              "75%    3003.500000  3750.000000           10.000000\n",
              "max    4003.000000  4883.000000           12.000000"
            ]
          },
          "execution_count": 82,
          "metadata": {},
          "output_type": "execute_result"
        }
      ],
      "source": [
        "df_customer_address.describe()"
      ]
    },
    {
      "cell_type": "markdown",
      "metadata": {
        "id": "sq-Dg0qCJUE0"
      },
      "source": [
        "## Customer demographic"
      ]
    },
    {
      "cell_type": "markdown",
      "metadata": {
        "id": "1ikahRVDobBs"
      },
      "source": [
        "This dataset contains information about customer's demographics (gender, age, birth date)."
      ]
    },
    {
      "cell_type": "code",
      "execution_count": 83,
      "metadata": {
        "colab": {
          "base_uri": "https://localhost:8080/"
        },
        "id": "oalDUlwwzYqY",
        "outputId": "f11f72fe-69f3-4af5-980e-3a62fc4a9df6"
      },
      "outputs": [
        {
          "name": "stdout",
          "output_type": "stream",
          "text": [
            "<class 'pandas.core.frame.DataFrame'>\n",
            "RangeIndex: 4000 entries, 0 to 3999\n",
            "Data columns (total 12 columns):\n",
            " #   Column                               Non-Null Count  Dtype         \n",
            "---  ------                               --------------  -----         \n",
            " 0   customer_id                          4000 non-null   int64         \n",
            " 1   name                                 4000 non-null   object        \n",
            " 2   gender                               4000 non-null   object        \n",
            " 3   past_3_years_bike_related_purchases  4000 non-null   int64         \n",
            " 4   DOB                                  3913 non-null   datetime64[ns]\n",
            " 5   age                                  3999 non-null   float64       \n",
            " 6   job_title                            3494 non-null   object        \n",
            " 7   job_industry_category                3344 non-null   object        \n",
            " 8   wealth_segment                       4000 non-null   object        \n",
            " 9   deceased_indicator                   4000 non-null   object        \n",
            " 10  owns_car                             4000 non-null   object        \n",
            " 11  tenure                               3913 non-null   float64       \n",
            "dtypes: datetime64[ns](1), float64(2), int64(2), object(7)\n",
            "memory usage: 375.1+ KB\n"
          ]
        }
      ],
      "source": [
        "df_customer_demographic.info()"
      ]
    },
    {
      "cell_type": "code",
      "execution_count": 84,
      "metadata": {
        "colab": {
          "base_uri": "https://localhost:8080/",
          "height": 357
        },
        "id": "YX2CiiIPzc63",
        "outputId": "fd66d74d-a39f-4aad-a3f9-8a2f91d5491f"
      },
      "outputs": [
        {
          "data": {
            "text/html": [
              "<div>\n",
              "<style scoped>\n",
              "    .dataframe tbody tr th:only-of-type {\n",
              "        vertical-align: middle;\n",
              "    }\n",
              "\n",
              "    .dataframe tbody tr th {\n",
              "        vertical-align: top;\n",
              "    }\n",
              "\n",
              "    .dataframe thead th {\n",
              "        text-align: right;\n",
              "    }\n",
              "</style>\n",
              "<table border=\"1\" class=\"dataframe\">\n",
              "  <thead>\n",
              "    <tr style=\"text-align: right;\">\n",
              "      <th></th>\n",
              "      <th>customer_id</th>\n",
              "      <th>name</th>\n",
              "      <th>gender</th>\n",
              "      <th>past_3_years_bike_related_purchases</th>\n",
              "      <th>DOB</th>\n",
              "      <th>age</th>\n",
              "      <th>job_title</th>\n",
              "      <th>job_industry_category</th>\n",
              "      <th>wealth_segment</th>\n",
              "      <th>deceased_indicator</th>\n",
              "      <th>owns_car</th>\n",
              "      <th>tenure</th>\n",
              "    </tr>\n",
              "  </thead>\n",
              "  <tbody>\n",
              "    <tr>\n",
              "      <th>0</th>\n",
              "      <td>34</td>\n",
              "      <td>Jephthah Bachmann</td>\n",
              "      <td>U</td>\n",
              "      <td>59</td>\n",
              "      <td>1843-12-21</td>\n",
              "      <td>NaN</td>\n",
              "      <td>Legal Assistant</td>\n",
              "      <td>IT</td>\n",
              "      <td>Affluent Customer</td>\n",
              "      <td>N</td>\n",
              "      <td>No</td>\n",
              "      <td>20.0</td>\n",
              "    </tr>\n",
              "    <tr>\n",
              "      <th>1</th>\n",
              "      <td>144</td>\n",
              "      <td>Jory Barrabeale</td>\n",
              "      <td>U</td>\n",
              "      <td>71</td>\n",
              "      <td>NaT</td>\n",
              "      <td>120.0</td>\n",
              "      <td>Environmental Tech</td>\n",
              "      <td>IT</td>\n",
              "      <td>Mass Customer</td>\n",
              "      <td>N</td>\n",
              "      <td>No</td>\n",
              "      <td>NaN</td>\n",
              "    </tr>\n",
              "    <tr>\n",
              "      <th>2</th>\n",
              "      <td>168</td>\n",
              "      <td>Reggie Broggetti</td>\n",
              "      <td>U</td>\n",
              "      <td>8</td>\n",
              "      <td>NaT</td>\n",
              "      <td>120.0</td>\n",
              "      <td>General Manager</td>\n",
              "      <td>IT</td>\n",
              "      <td>Affluent Customer</td>\n",
              "      <td>N</td>\n",
              "      <td>Yes</td>\n",
              "      <td>NaN</td>\n",
              "    </tr>\n",
              "    <tr>\n",
              "      <th>3</th>\n",
              "      <td>267</td>\n",
              "      <td>Edgar Buckler</td>\n",
              "      <td>U</td>\n",
              "      <td>53</td>\n",
              "      <td>NaT</td>\n",
              "      <td>120.0</td>\n",
              "      <td>NaN</td>\n",
              "      <td>IT</td>\n",
              "      <td>High Net Worth</td>\n",
              "      <td>N</td>\n",
              "      <td>No</td>\n",
              "      <td>NaN</td>\n",
              "    </tr>\n",
              "    <tr>\n",
              "      <th>4</th>\n",
              "      <td>290</td>\n",
              "      <td>Giorgio Kevane</td>\n",
              "      <td>U</td>\n",
              "      <td>42</td>\n",
              "      <td>NaT</td>\n",
              "      <td>120.0</td>\n",
              "      <td>Senior Sales Associate</td>\n",
              "      <td>IT</td>\n",
              "      <td>Mass Customer</td>\n",
              "      <td>N</td>\n",
              "      <td>No</td>\n",
              "      <td>NaN</td>\n",
              "    </tr>\n",
              "  </tbody>\n",
              "</table>\n",
              "</div>"
            ],
            "text/plain": [
              "   customer_id               name gender  past_3_years_bike_related_purchases  \\\n",
              "0           34  Jephthah Bachmann      U                                   59   \n",
              "1          144    Jory Barrabeale      U                                   71   \n",
              "2          168   Reggie Broggetti      U                                    8   \n",
              "3          267      Edgar Buckler      U                                   53   \n",
              "4          290     Giorgio Kevane      U                                   42   \n",
              "\n",
              "         DOB    age               job_title job_industry_category  \\\n",
              "0 1843-12-21    NaN         Legal Assistant                    IT   \n",
              "1        NaT  120.0      Environmental Tech                    IT   \n",
              "2        NaT  120.0         General Manager                    IT   \n",
              "3        NaT  120.0                     NaN                    IT   \n",
              "4        NaT  120.0  Senior Sales Associate                    IT   \n",
              "\n",
              "      wealth_segment deceased_indicator owns_car  tenure  \n",
              "0  Affluent Customer                  N       No    20.0  \n",
              "1      Mass Customer                  N       No     NaN  \n",
              "2  Affluent Customer                  N      Yes     NaN  \n",
              "3     High Net Worth                  N       No     NaN  \n",
              "4      Mass Customer                  N       No     NaN  "
            ]
          },
          "execution_count": 84,
          "metadata": {},
          "output_type": "execute_result"
        }
      ],
      "source": [
        "df_customer_demographic.head()"
      ]
    },
    {
      "cell_type": "code",
      "execution_count": 85,
      "metadata": {
        "colab": {
          "base_uri": "https://localhost:8080/",
          "height": 300
        },
        "id": "8nQd_gm1zft0",
        "outputId": "840f0ad9-473d-4d89-8765-f42d25a8a157"
      },
      "outputs": [
        {
          "data": {
            "text/html": [
              "<div>\n",
              "<style scoped>\n",
              "    .dataframe tbody tr th:only-of-type {\n",
              "        vertical-align: middle;\n",
              "    }\n",
              "\n",
              "    .dataframe tbody tr th {\n",
              "        vertical-align: top;\n",
              "    }\n",
              "\n",
              "    .dataframe thead th {\n",
              "        text-align: right;\n",
              "    }\n",
              "</style>\n",
              "<table border=\"1\" class=\"dataframe\">\n",
              "  <thead>\n",
              "    <tr style=\"text-align: right;\">\n",
              "      <th></th>\n",
              "      <th>customer_id</th>\n",
              "      <th>past_3_years_bike_related_purchases</th>\n",
              "      <th>age</th>\n",
              "      <th>tenure</th>\n",
              "    </tr>\n",
              "  </thead>\n",
              "  <tbody>\n",
              "    <tr>\n",
              "      <th>count</th>\n",
              "      <td>4000.000000</td>\n",
              "      <td>4000.000000</td>\n",
              "      <td>3999.000000</td>\n",
              "      <td>3913.000000</td>\n",
              "    </tr>\n",
              "    <tr>\n",
              "      <th>mean</th>\n",
              "      <td>2000.500000</td>\n",
              "      <td>48.890000</td>\n",
              "      <td>44.054514</td>\n",
              "      <td>10.657041</td>\n",
              "    </tr>\n",
              "    <tr>\n",
              "      <th>std</th>\n",
              "      <td>1154.844867</td>\n",
              "      <td>28.715005</td>\n",
              "      <td>16.858429</td>\n",
              "      <td>5.660146</td>\n",
              "    </tr>\n",
              "    <tr>\n",
              "      <th>min</th>\n",
              "      <td>1.000000</td>\n",
              "      <td>0.000000</td>\n",
              "      <td>18.000000</td>\n",
              "      <td>1.000000</td>\n",
              "    </tr>\n",
              "    <tr>\n",
              "      <th>25%</th>\n",
              "      <td>1000.750000</td>\n",
              "      <td>24.000000</td>\n",
              "      <td>33.000000</td>\n",
              "      <td>6.000000</td>\n",
              "    </tr>\n",
              "    <tr>\n",
              "      <th>50%</th>\n",
              "      <td>2000.500000</td>\n",
              "      <td>48.000000</td>\n",
              "      <td>43.000000</td>\n",
              "      <td>11.000000</td>\n",
              "    </tr>\n",
              "    <tr>\n",
              "      <th>75%</th>\n",
              "      <td>3000.250000</td>\n",
              "      <td>73.000000</td>\n",
              "      <td>53.000000</td>\n",
              "      <td>15.000000</td>\n",
              "    </tr>\n",
              "    <tr>\n",
              "      <th>max</th>\n",
              "      <td>4000.000000</td>\n",
              "      <td>99.000000</td>\n",
              "      <td>120.000000</td>\n",
              "      <td>22.000000</td>\n",
              "    </tr>\n",
              "  </tbody>\n",
              "</table>\n",
              "</div>"
            ],
            "text/plain": [
              "       customer_id  past_3_years_bike_related_purchases          age  \\\n",
              "count  4000.000000                          4000.000000  3999.000000   \n",
              "mean   2000.500000                            48.890000    44.054514   \n",
              "std    1154.844867                            28.715005    16.858429   \n",
              "min       1.000000                             0.000000    18.000000   \n",
              "25%    1000.750000                            24.000000    33.000000   \n",
              "50%    2000.500000                            48.000000    43.000000   \n",
              "75%    3000.250000                            73.000000    53.000000   \n",
              "max    4000.000000                            99.000000   120.000000   \n",
              "\n",
              "            tenure  \n",
              "count  3913.000000  \n",
              "mean     10.657041  \n",
              "std       5.660146  \n",
              "min       1.000000  \n",
              "25%       6.000000  \n",
              "50%      11.000000  \n",
              "75%      15.000000  \n",
              "max      22.000000  "
            ]
          },
          "execution_count": 85,
          "metadata": {},
          "output_type": "execute_result"
        }
      ],
      "source": [
        "df_customer_demographic.describe()"
      ]
    },
    {
      "cell_type": "markdown",
      "metadata": {
        "id": "UzfkLYBQigPH"
      },
      "source": [
        "## Target Customers\n",
        "This dataset is about people that could be potential customers."
      ]
    },
    {
      "cell_type": "code",
      "execution_count": 86,
      "metadata": {
        "colab": {
          "base_uri": "https://localhost:8080/"
        },
        "id": "CUdwXbvXwwiD",
        "outputId": "393f5ae1-d368-4b1c-de18-393591d3574c"
      },
      "outputs": [
        {
          "name": "stdout",
          "output_type": "stream",
          "text": [
            "<class 'pandas.core.frame.DataFrame'>\n",
            "RangeIndex: 1000 entries, 0 to 999\n",
            "Data columns (total 23 columns):\n",
            " #   Column                               Non-Null Count  Dtype         \n",
            "---  ------                               --------------  -----         \n",
            " 0   first_name                           1000 non-null   object        \n",
            " 1   last_name                            971 non-null    object        \n",
            " 2   gender                               1000 non-null   object        \n",
            " 3   past_3_years_bike_related_purchases  1000 non-null   int64         \n",
            " 4   DOB                                  983 non-null    datetime64[ns]\n",
            " 5   job_title                            894 non-null    object        \n",
            " 6   job_industry_category                835 non-null    object        \n",
            " 7   wealth_segment                       1000 non-null   object        \n",
            " 8   deceased_indicator                   1000 non-null   object        \n",
            " 9   owns_car                             1000 non-null   object        \n",
            " 10  tenure                               1000 non-null   int64         \n",
            " 11  address                              1000 non-null   object        \n",
            " 12  postcode                             1000 non-null   int64         \n",
            " 13  state                                1000 non-null   object        \n",
            " 14  country                              1000 non-null   object        \n",
            " 15  property_valuation                   1000 non-null   int64         \n",
            " 16  Unnamed: 16                          1000 non-null   float64       \n",
            " 17  Unnamed: 17                          1000 non-null   float64       \n",
            " 18  Unnamed: 18                          1000 non-null   float64       \n",
            " 19  Unnamed: 19                          1000 non-null   float64       \n",
            " 20  Unnamed: 20                          1000 non-null   int64         \n",
            " 21  Rank                                 1000 non-null   int64         \n",
            " 22  Value                                1000 non-null   float64       \n",
            "dtypes: datetime64[ns](1), float64(5), int64(6), object(11)\n",
            "memory usage: 179.8+ KB\n"
          ]
        }
      ],
      "source": [
        "df_target_customers.info()"
      ]
    },
    {
      "cell_type": "markdown",
      "metadata": {
        "id": "rkvrxGudxCTE"
      },
      "source": [
        "We have some null values on \"last_name\", birth date and job related columns."
      ]
    },
    {
      "cell_type": "code",
      "execution_count": 87,
      "metadata": {
        "colab": {
          "base_uri": "https://localhost:8080/",
          "height": 421
        },
        "id": "AZrYqST0w0Op",
        "outputId": "4c501e93-7a53-4783-f67d-22906bdf3ac4"
      },
      "outputs": [
        {
          "data": {
            "text/html": [
              "<div>\n",
              "<style scoped>\n",
              "    .dataframe tbody tr th:only-of-type {\n",
              "        vertical-align: middle;\n",
              "    }\n",
              "\n",
              "    .dataframe tbody tr th {\n",
              "        vertical-align: top;\n",
              "    }\n",
              "\n",
              "    .dataframe thead th {\n",
              "        text-align: right;\n",
              "    }\n",
              "</style>\n",
              "<table border=\"1\" class=\"dataframe\">\n",
              "  <thead>\n",
              "    <tr style=\"text-align: right;\">\n",
              "      <th></th>\n",
              "      <th>first_name</th>\n",
              "      <th>last_name</th>\n",
              "      <th>gender</th>\n",
              "      <th>past_3_years_bike_related_purchases</th>\n",
              "      <th>DOB</th>\n",
              "      <th>job_title</th>\n",
              "      <th>job_industry_category</th>\n",
              "      <th>wealth_segment</th>\n",
              "      <th>deceased_indicator</th>\n",
              "      <th>owns_car</th>\n",
              "      <th>...</th>\n",
              "      <th>state</th>\n",
              "      <th>country</th>\n",
              "      <th>property_valuation</th>\n",
              "      <th>Unnamed: 16</th>\n",
              "      <th>Unnamed: 17</th>\n",
              "      <th>Unnamed: 18</th>\n",
              "      <th>Unnamed: 19</th>\n",
              "      <th>Unnamed: 20</th>\n",
              "      <th>Rank</th>\n",
              "      <th>Value</th>\n",
              "    </tr>\n",
              "  </thead>\n",
              "  <tbody>\n",
              "    <tr>\n",
              "      <th>0</th>\n",
              "      <td>Chickie</td>\n",
              "      <td>Brister</td>\n",
              "      <td>Male</td>\n",
              "      <td>86</td>\n",
              "      <td>1957-07-12</td>\n",
              "      <td>General Manager</td>\n",
              "      <td>Manufacturing</td>\n",
              "      <td>Mass Customer</td>\n",
              "      <td>N</td>\n",
              "      <td>Yes</td>\n",
              "      <td>...</td>\n",
              "      <td>QLD</td>\n",
              "      <td>Australia</td>\n",
              "      <td>6</td>\n",
              "      <td>0.43</td>\n",
              "      <td>0.5375</td>\n",
              "      <td>0.671875</td>\n",
              "      <td>0.571094</td>\n",
              "      <td>1</td>\n",
              "      <td>1</td>\n",
              "      <td>1.718750</td>\n",
              "    </tr>\n",
              "    <tr>\n",
              "      <th>1</th>\n",
              "      <td>Morly</td>\n",
              "      <td>Genery</td>\n",
              "      <td>Male</td>\n",
              "      <td>69</td>\n",
              "      <td>1970-03-22</td>\n",
              "      <td>Structural Engineer</td>\n",
              "      <td>Property</td>\n",
              "      <td>Mass Customer</td>\n",
              "      <td>N</td>\n",
              "      <td>No</td>\n",
              "      <td>...</td>\n",
              "      <td>NSW</td>\n",
              "      <td>Australia</td>\n",
              "      <td>11</td>\n",
              "      <td>0.58</td>\n",
              "      <td>0.5800</td>\n",
              "      <td>0.725000</td>\n",
              "      <td>0.616250</td>\n",
              "      <td>1</td>\n",
              "      <td>1</td>\n",
              "      <td>1.718750</td>\n",
              "    </tr>\n",
              "    <tr>\n",
              "      <th>2</th>\n",
              "      <td>Ardelis</td>\n",
              "      <td>Forrester</td>\n",
              "      <td>Female</td>\n",
              "      <td>10</td>\n",
              "      <td>1974-08-28</td>\n",
              "      <td>Senior Cost Accountant</td>\n",
              "      <td>Financial Services</td>\n",
              "      <td>Affluent Customer</td>\n",
              "      <td>N</td>\n",
              "      <td>No</td>\n",
              "      <td>...</td>\n",
              "      <td>VIC</td>\n",
              "      <td>Australia</td>\n",
              "      <td>5</td>\n",
              "      <td>0.73</td>\n",
              "      <td>0.7300</td>\n",
              "      <td>0.730000</td>\n",
              "      <td>0.730000</td>\n",
              "      <td>1</td>\n",
              "      <td>1</td>\n",
              "      <td>1.718750</td>\n",
              "    </tr>\n",
              "    <tr>\n",
              "      <th>3</th>\n",
              "      <td>Lucine</td>\n",
              "      <td>Stutt</td>\n",
              "      <td>Female</td>\n",
              "      <td>64</td>\n",
              "      <td>1979-01-28</td>\n",
              "      <td>Account Representative III</td>\n",
              "      <td>Manufacturing</td>\n",
              "      <td>Affluent Customer</td>\n",
              "      <td>N</td>\n",
              "      <td>Yes</td>\n",
              "      <td>...</td>\n",
              "      <td>QLD</td>\n",
              "      <td>Australia</td>\n",
              "      <td>1</td>\n",
              "      <td>0.80</td>\n",
              "      <td>1.0000</td>\n",
              "      <td>1.000000</td>\n",
              "      <td>1.000000</td>\n",
              "      <td>4</td>\n",
              "      <td>4</td>\n",
              "      <td>1.703125</td>\n",
              "    </tr>\n",
              "    <tr>\n",
              "      <th>4</th>\n",
              "      <td>Melinda</td>\n",
              "      <td>Hadlee</td>\n",
              "      <td>Female</td>\n",
              "      <td>34</td>\n",
              "      <td>1965-09-21</td>\n",
              "      <td>Financial Analyst</td>\n",
              "      <td>Financial Services</td>\n",
              "      <td>Affluent Customer</td>\n",
              "      <td>N</td>\n",
              "      <td>No</td>\n",
              "      <td>...</td>\n",
              "      <td>NSW</td>\n",
              "      <td>Australia</td>\n",
              "      <td>9</td>\n",
              "      <td>0.80</td>\n",
              "      <td>0.8000</td>\n",
              "      <td>1.000000</td>\n",
              "      <td>1.000000</td>\n",
              "      <td>4</td>\n",
              "      <td>4</td>\n",
              "      <td>1.703125</td>\n",
              "    </tr>\n",
              "  </tbody>\n",
              "</table>\n",
              "<p>5 rows × 23 columns</p>\n",
              "</div>"
            ],
            "text/plain": [
              "  first_name  last_name  gender  past_3_years_bike_related_purchases  \\\n",
              "0    Chickie    Brister    Male                                   86   \n",
              "1      Morly     Genery    Male                                   69   \n",
              "2    Ardelis  Forrester  Female                                   10   \n",
              "3     Lucine      Stutt  Female                                   64   \n",
              "4    Melinda     Hadlee  Female                                   34   \n",
              "\n",
              "         DOB                   job_title job_industry_category  \\\n",
              "0 1957-07-12             General Manager         Manufacturing   \n",
              "1 1970-03-22         Structural Engineer              Property   \n",
              "2 1974-08-28      Senior Cost Accountant    Financial Services   \n",
              "3 1979-01-28  Account Representative III         Manufacturing   \n",
              "4 1965-09-21           Financial Analyst    Financial Services   \n",
              "\n",
              "      wealth_segment deceased_indicator owns_car  ...  state    country  \\\n",
              "0      Mass Customer                  N      Yes  ...    QLD  Australia   \n",
              "1      Mass Customer                  N       No  ...    NSW  Australia   \n",
              "2  Affluent Customer                  N       No  ...    VIC  Australia   \n",
              "3  Affluent Customer                  N      Yes  ...    QLD  Australia   \n",
              "4  Affluent Customer                  N       No  ...    NSW  Australia   \n",
              "\n",
              "   property_valuation Unnamed: 16 Unnamed: 17  Unnamed: 18  Unnamed: 19  \\\n",
              "0                   6        0.43      0.5375     0.671875     0.571094   \n",
              "1                  11        0.58      0.5800     0.725000     0.616250   \n",
              "2                   5        0.73      0.7300     0.730000     0.730000   \n",
              "3                   1        0.80      1.0000     1.000000     1.000000   \n",
              "4                   9        0.80      0.8000     1.000000     1.000000   \n",
              "\n",
              "   Unnamed: 20  Rank     Value  \n",
              "0            1     1  1.718750  \n",
              "1            1     1  1.718750  \n",
              "2            1     1  1.718750  \n",
              "3            4     4  1.703125  \n",
              "4            4     4  1.703125  \n",
              "\n",
              "[5 rows x 23 columns]"
            ]
          },
          "execution_count": 87,
          "metadata": {},
          "output_type": "execute_result"
        }
      ],
      "source": [
        "df_target_customers.head()"
      ]
    },
    {
      "cell_type": "markdown",
      "metadata": {
        "id": "2gbqBRTxx4Ou"
      },
      "source": [
        "We can drop \"Unnamed\", \"Rank\" and \"Value\" columns since they dont give us any useful information."
      ]
    },
    {
      "cell_type": "code",
      "execution_count": 88,
      "metadata": {
        "colab": {
          "base_uri": "https://localhost:8080/",
          "height": 444
        },
        "id": "JYm7qyKxyUOb",
        "outputId": "f53738db-1bfb-4ac7-92ac-8f7824f5498a"
      },
      "outputs": [
        {
          "data": {
            "text/html": [
              "<div>\n",
              "<style scoped>\n",
              "    .dataframe tbody tr th:only-of-type {\n",
              "        vertical-align: middle;\n",
              "    }\n",
              "\n",
              "    .dataframe tbody tr th {\n",
              "        vertical-align: top;\n",
              "    }\n",
              "\n",
              "    .dataframe thead th {\n",
              "        text-align: right;\n",
              "    }\n",
              "</style>\n",
              "<table border=\"1\" class=\"dataframe\">\n",
              "  <thead>\n",
              "    <tr style=\"text-align: right;\">\n",
              "      <th></th>\n",
              "      <th>first_name</th>\n",
              "      <th>last_name</th>\n",
              "      <th>gender</th>\n",
              "      <th>past_3_years_bike_related_purchases</th>\n",
              "      <th>DOB</th>\n",
              "      <th>job_title</th>\n",
              "      <th>job_industry_category</th>\n",
              "      <th>wealth_segment</th>\n",
              "      <th>deceased_indicator</th>\n",
              "      <th>owns_car</th>\n",
              "      <th>tenure</th>\n",
              "      <th>address</th>\n",
              "      <th>postcode</th>\n",
              "      <th>state</th>\n",
              "      <th>country</th>\n",
              "      <th>property_valuation</th>\n",
              "    </tr>\n",
              "  </thead>\n",
              "  <tbody>\n",
              "    <tr>\n",
              "      <th>0</th>\n",
              "      <td>Chickie</td>\n",
              "      <td>Brister</td>\n",
              "      <td>Male</td>\n",
              "      <td>86</td>\n",
              "      <td>1957-07-12</td>\n",
              "      <td>General Manager</td>\n",
              "      <td>Manufacturing</td>\n",
              "      <td>Mass Customer</td>\n",
              "      <td>N</td>\n",
              "      <td>Yes</td>\n",
              "      <td>14</td>\n",
              "      <td>45 Shopko Center</td>\n",
              "      <td>4500</td>\n",
              "      <td>QLD</td>\n",
              "      <td>Australia</td>\n",
              "      <td>6</td>\n",
              "    </tr>\n",
              "    <tr>\n",
              "      <th>1</th>\n",
              "      <td>Morly</td>\n",
              "      <td>Genery</td>\n",
              "      <td>Male</td>\n",
              "      <td>69</td>\n",
              "      <td>1970-03-22</td>\n",
              "      <td>Structural Engineer</td>\n",
              "      <td>Property</td>\n",
              "      <td>Mass Customer</td>\n",
              "      <td>N</td>\n",
              "      <td>No</td>\n",
              "      <td>16</td>\n",
              "      <td>14 Mccormick Park</td>\n",
              "      <td>2113</td>\n",
              "      <td>NSW</td>\n",
              "      <td>Australia</td>\n",
              "      <td>11</td>\n",
              "    </tr>\n",
              "    <tr>\n",
              "      <th>2</th>\n",
              "      <td>Ardelis</td>\n",
              "      <td>Forrester</td>\n",
              "      <td>Female</td>\n",
              "      <td>10</td>\n",
              "      <td>1974-08-28</td>\n",
              "      <td>Senior Cost Accountant</td>\n",
              "      <td>Financial Services</td>\n",
              "      <td>Affluent Customer</td>\n",
              "      <td>N</td>\n",
              "      <td>No</td>\n",
              "      <td>10</td>\n",
              "      <td>5 Colorado Crossing</td>\n",
              "      <td>3505</td>\n",
              "      <td>VIC</td>\n",
              "      <td>Australia</td>\n",
              "      <td>5</td>\n",
              "    </tr>\n",
              "    <tr>\n",
              "      <th>3</th>\n",
              "      <td>Lucine</td>\n",
              "      <td>Stutt</td>\n",
              "      <td>Female</td>\n",
              "      <td>64</td>\n",
              "      <td>1979-01-28</td>\n",
              "      <td>Account Representative III</td>\n",
              "      <td>Manufacturing</td>\n",
              "      <td>Affluent Customer</td>\n",
              "      <td>N</td>\n",
              "      <td>Yes</td>\n",
              "      <td>5</td>\n",
              "      <td>207 Annamark Plaza</td>\n",
              "      <td>4814</td>\n",
              "      <td>QLD</td>\n",
              "      <td>Australia</td>\n",
              "      <td>1</td>\n",
              "    </tr>\n",
              "    <tr>\n",
              "      <th>4</th>\n",
              "      <td>Melinda</td>\n",
              "      <td>Hadlee</td>\n",
              "      <td>Female</td>\n",
              "      <td>34</td>\n",
              "      <td>1965-09-21</td>\n",
              "      <td>Financial Analyst</td>\n",
              "      <td>Financial Services</td>\n",
              "      <td>Affluent Customer</td>\n",
              "      <td>N</td>\n",
              "      <td>No</td>\n",
              "      <td>19</td>\n",
              "      <td>115 Montana Place</td>\n",
              "      <td>2093</td>\n",
              "      <td>NSW</td>\n",
              "      <td>Australia</td>\n",
              "      <td>9</td>\n",
              "    </tr>\n",
              "  </tbody>\n",
              "</table>\n",
              "</div>"
            ],
            "text/plain": [
              "  first_name  last_name  gender  past_3_years_bike_related_purchases  \\\n",
              "0    Chickie    Brister    Male                                   86   \n",
              "1      Morly     Genery    Male                                   69   \n",
              "2    Ardelis  Forrester  Female                                   10   \n",
              "3     Lucine      Stutt  Female                                   64   \n",
              "4    Melinda     Hadlee  Female                                   34   \n",
              "\n",
              "         DOB                   job_title job_industry_category  \\\n",
              "0 1957-07-12             General Manager         Manufacturing   \n",
              "1 1970-03-22         Structural Engineer              Property   \n",
              "2 1974-08-28      Senior Cost Accountant    Financial Services   \n",
              "3 1979-01-28  Account Representative III         Manufacturing   \n",
              "4 1965-09-21           Financial Analyst    Financial Services   \n",
              "\n",
              "      wealth_segment deceased_indicator owns_car  tenure              address  \\\n",
              "0      Mass Customer                  N      Yes      14     45 Shopko Center   \n",
              "1      Mass Customer                  N       No      16    14 Mccormick Park   \n",
              "2  Affluent Customer                  N       No      10  5 Colorado Crossing   \n",
              "3  Affluent Customer                  N      Yes       5   207 Annamark Plaza   \n",
              "4  Affluent Customer                  N       No      19    115 Montana Place   \n",
              "\n",
              "   postcode state    country  property_valuation  \n",
              "0      4500   QLD  Australia                   6  \n",
              "1      2113   NSW  Australia                  11  \n",
              "2      3505   VIC  Australia                   5  \n",
              "3      4814   QLD  Australia                   1  \n",
              "4      2093   NSW  Australia                   9  "
            ]
          },
          "execution_count": 88,
          "metadata": {},
          "output_type": "execute_result"
        }
      ],
      "source": [
        "df_target_customers = df_target_customers.iloc[:, :-7]\n",
        "df_target_customers.head()"
      ]
    },
    {
      "cell_type": "code",
      "execution_count": 89,
      "metadata": {
        "colab": {
          "base_uri": "https://localhost:8080/",
          "height": 300
        },
        "id": "7Mh3P-mXzNby",
        "outputId": "8d0041dd-8535-49c4-ff8e-920adf78d54e"
      },
      "outputs": [
        {
          "data": {
            "text/html": [
              "<div>\n",
              "<style scoped>\n",
              "    .dataframe tbody tr th:only-of-type {\n",
              "        vertical-align: middle;\n",
              "    }\n",
              "\n",
              "    .dataframe tbody tr th {\n",
              "        vertical-align: top;\n",
              "    }\n",
              "\n",
              "    .dataframe thead th {\n",
              "        text-align: right;\n",
              "    }\n",
              "</style>\n",
              "<table border=\"1\" class=\"dataframe\">\n",
              "  <thead>\n",
              "    <tr style=\"text-align: right;\">\n",
              "      <th></th>\n",
              "      <th>past_3_years_bike_related_purchases</th>\n",
              "      <th>tenure</th>\n",
              "      <th>postcode</th>\n",
              "      <th>property_valuation</th>\n",
              "    </tr>\n",
              "  </thead>\n",
              "  <tbody>\n",
              "    <tr>\n",
              "      <th>count</th>\n",
              "      <td>1000.000000</td>\n",
              "      <td>1000.000000</td>\n",
              "      <td>1000.000000</td>\n",
              "      <td>1000.000000</td>\n",
              "    </tr>\n",
              "    <tr>\n",
              "      <th>mean</th>\n",
              "      <td>49.836000</td>\n",
              "      <td>11.388000</td>\n",
              "      <td>3019.227000</td>\n",
              "      <td>7.397000</td>\n",
              "    </tr>\n",
              "    <tr>\n",
              "      <th>std</th>\n",
              "      <td>27.796686</td>\n",
              "      <td>5.037145</td>\n",
              "      <td>848.895767</td>\n",
              "      <td>2.758804</td>\n",
              "    </tr>\n",
              "    <tr>\n",
              "      <th>min</th>\n",
              "      <td>0.000000</td>\n",
              "      <td>0.000000</td>\n",
              "      <td>2000.000000</td>\n",
              "      <td>1.000000</td>\n",
              "    </tr>\n",
              "    <tr>\n",
              "      <th>25%</th>\n",
              "      <td>26.750000</td>\n",
              "      <td>7.000000</td>\n",
              "      <td>2209.000000</td>\n",
              "      <td>6.000000</td>\n",
              "    </tr>\n",
              "    <tr>\n",
              "      <th>50%</th>\n",
              "      <td>51.000000</td>\n",
              "      <td>11.000000</td>\n",
              "      <td>2800.000000</td>\n",
              "      <td>8.000000</td>\n",
              "    </tr>\n",
              "    <tr>\n",
              "      <th>75%</th>\n",
              "      <td>72.000000</td>\n",
              "      <td>15.000000</td>\n",
              "      <td>3845.500000</td>\n",
              "      <td>9.000000</td>\n",
              "    </tr>\n",
              "    <tr>\n",
              "      <th>max</th>\n",
              "      <td>99.000000</td>\n",
              "      <td>22.000000</td>\n",
              "      <td>4879.000000</td>\n",
              "      <td>12.000000</td>\n",
              "    </tr>\n",
              "  </tbody>\n",
              "</table>\n",
              "</div>"
            ],
            "text/plain": [
              "       past_3_years_bike_related_purchases       tenure     postcode  \\\n",
              "count                          1000.000000  1000.000000  1000.000000   \n",
              "mean                             49.836000    11.388000  3019.227000   \n",
              "std                              27.796686     5.037145   848.895767   \n",
              "min                               0.000000     0.000000  2000.000000   \n",
              "25%                              26.750000     7.000000  2209.000000   \n",
              "50%                              51.000000    11.000000  2800.000000   \n",
              "75%                              72.000000    15.000000  3845.500000   \n",
              "max                              99.000000    22.000000  4879.000000   \n",
              "\n",
              "       property_valuation  \n",
              "count         1000.000000  \n",
              "mean             7.397000  \n",
              "std              2.758804  \n",
              "min              1.000000  \n",
              "25%              6.000000  \n",
              "50%              8.000000  \n",
              "75%              9.000000  \n",
              "max             12.000000  "
            ]
          },
          "execution_count": 89,
          "metadata": {},
          "output_type": "execute_result"
        }
      ],
      "source": [
        "df_target_customers.describe()"
      ]
    },
    {
      "cell_type": "markdown",
      "metadata": {
        "id": "6IuNxcy5FphT"
      },
      "source": [
        "Let's fix some column types and names."
      ]
    },
    {
      "cell_type": "code",
      "execution_count": 90,
      "metadata": {
        "id": "JY_d0Ps3F7ZV"
      },
      "outputs": [],
      "source": [
        "# Fix column types\n",
        "df_target_customers[\"gender\"] = df_target_customers[\"gender\"].astype('category')\n",
        "df_target_customers[\"owns_car\"] = df_target_customers[\"owns_car\"].astype('bool')\n",
        "# Rename columns\n",
        "df_target_customers.rename({'DOB' : 'birth_date'}, axis=1, inplace=True)"
      ]
    },
    {
      "cell_type": "markdown",
      "metadata": {
        "id": "DSlZYrBbHsAk"
      },
      "source": [
        "### Final dataframe structure\n",
        "\n",
        "This is the final target customers dataframe:"
      ]
    },
    {
      "cell_type": "code",
      "execution_count": 91,
      "metadata": {
        "colab": {
          "base_uri": "https://localhost:8080/"
        },
        "id": "_vNwFGyYGHF_",
        "outputId": "51c3a6af-c566-45ef-c6b5-2a2368dbf49d"
      },
      "outputs": [
        {
          "name": "stdout",
          "output_type": "stream",
          "text": [
            "<class 'pandas.core.frame.DataFrame'>\n",
            "RangeIndex: 1000 entries, 0 to 999\n",
            "Data columns (total 16 columns):\n",
            " #   Column                               Non-Null Count  Dtype         \n",
            "---  ------                               --------------  -----         \n",
            " 0   first_name                           1000 non-null   object        \n",
            " 1   last_name                            971 non-null    object        \n",
            " 2   gender                               1000 non-null   category      \n",
            " 3   past_3_years_bike_related_purchases  1000 non-null   int64         \n",
            " 4   birth_date                           983 non-null    datetime64[ns]\n",
            " 5   job_title                            894 non-null    object        \n",
            " 6   job_industry_category                835 non-null    object        \n",
            " 7   wealth_segment                       1000 non-null   object        \n",
            " 8   deceased_indicator                   1000 non-null   object        \n",
            " 9   owns_car                             1000 non-null   bool          \n",
            " 10  tenure                               1000 non-null   int64         \n",
            " 11  address                              1000 non-null   object        \n",
            " 12  postcode                             1000 non-null   int64         \n",
            " 13  state                                1000 non-null   object        \n",
            " 14  country                              1000 non-null   object        \n",
            " 15  property_valuation                   1000 non-null   int64         \n",
            "dtypes: bool(1), category(1), datetime64[ns](1), int64(4), object(9)\n",
            "memory usage: 111.6+ KB\n"
          ]
        }
      ],
      "source": [
        "df_target_customers.info()"
      ]
    },
    {
      "cell_type": "markdown",
      "metadata": {
        "id": "WF_WqyEEBNtU"
      },
      "source": [
        "Let's test some merges to find matchs with 'customer_address' dataset."
      ]
    },
    {
      "cell_type": "markdown",
      "metadata": {
        "id": "8I7Dk4tpEEKE"
      },
      "source": [
        "First, create a 'full_name' column on customers dataframe, since it doesn't have a 'customer_id' column."
      ]
    },
    {
      "cell_type": "code",
      "execution_count": 92,
      "metadata": {
        "id": "p8xEeZ022bYC"
      },
      "outputs": [],
      "source": [
        "df_target_customers[\"full_name\"] = df_target_customers[\"first_name\"] + ' ' + df_target_customers[\"last_name\"] "
      ]
    },
    {
      "cell_type": "code",
      "execution_count": 93,
      "metadata": {
        "colab": {
          "base_uri": "https://localhost:8080/",
          "height": 444
        },
        "id": "w5vv6AYk6sWs",
        "outputId": "17fdbf1a-2545-4a35-e292-eef276da14f6"
      },
      "outputs": [
        {
          "data": {
            "text/html": [
              "<div>\n",
              "<style scoped>\n",
              "    .dataframe tbody tr th:only-of-type {\n",
              "        vertical-align: middle;\n",
              "    }\n",
              "\n",
              "    .dataframe tbody tr th {\n",
              "        vertical-align: top;\n",
              "    }\n",
              "\n",
              "    .dataframe thead th {\n",
              "        text-align: right;\n",
              "    }\n",
              "</style>\n",
              "<table border=\"1\" class=\"dataframe\">\n",
              "  <thead>\n",
              "    <tr style=\"text-align: right;\">\n",
              "      <th></th>\n",
              "      <th>first_name</th>\n",
              "      <th>last_name</th>\n",
              "      <th>gender</th>\n",
              "      <th>past_3_years_bike_related_purchases</th>\n",
              "      <th>birth_date</th>\n",
              "      <th>job_title</th>\n",
              "      <th>job_industry_category</th>\n",
              "      <th>wealth_segment</th>\n",
              "      <th>deceased_indicator</th>\n",
              "      <th>owns_car</th>\n",
              "      <th>tenure</th>\n",
              "      <th>address</th>\n",
              "      <th>postcode</th>\n",
              "      <th>state</th>\n",
              "      <th>country</th>\n",
              "      <th>property_valuation</th>\n",
              "      <th>full_name</th>\n",
              "    </tr>\n",
              "  </thead>\n",
              "  <tbody>\n",
              "    <tr>\n",
              "      <th>0</th>\n",
              "      <td>Chickie</td>\n",
              "      <td>Brister</td>\n",
              "      <td>Male</td>\n",
              "      <td>86</td>\n",
              "      <td>1957-07-12</td>\n",
              "      <td>General Manager</td>\n",
              "      <td>Manufacturing</td>\n",
              "      <td>Mass Customer</td>\n",
              "      <td>N</td>\n",
              "      <td>True</td>\n",
              "      <td>14</td>\n",
              "      <td>45 Shopko Center</td>\n",
              "      <td>4500</td>\n",
              "      <td>QLD</td>\n",
              "      <td>Australia</td>\n",
              "      <td>6</td>\n",
              "      <td>Chickie Brister</td>\n",
              "    </tr>\n",
              "    <tr>\n",
              "      <th>1</th>\n",
              "      <td>Morly</td>\n",
              "      <td>Genery</td>\n",
              "      <td>Male</td>\n",
              "      <td>69</td>\n",
              "      <td>1970-03-22</td>\n",
              "      <td>Structural Engineer</td>\n",
              "      <td>Property</td>\n",
              "      <td>Mass Customer</td>\n",
              "      <td>N</td>\n",
              "      <td>True</td>\n",
              "      <td>16</td>\n",
              "      <td>14 Mccormick Park</td>\n",
              "      <td>2113</td>\n",
              "      <td>NSW</td>\n",
              "      <td>Australia</td>\n",
              "      <td>11</td>\n",
              "      <td>Morly Genery</td>\n",
              "    </tr>\n",
              "    <tr>\n",
              "      <th>2</th>\n",
              "      <td>Ardelis</td>\n",
              "      <td>Forrester</td>\n",
              "      <td>Female</td>\n",
              "      <td>10</td>\n",
              "      <td>1974-08-28</td>\n",
              "      <td>Senior Cost Accountant</td>\n",
              "      <td>Financial Services</td>\n",
              "      <td>Affluent Customer</td>\n",
              "      <td>N</td>\n",
              "      <td>True</td>\n",
              "      <td>10</td>\n",
              "      <td>5 Colorado Crossing</td>\n",
              "      <td>3505</td>\n",
              "      <td>VIC</td>\n",
              "      <td>Australia</td>\n",
              "      <td>5</td>\n",
              "      <td>Ardelis Forrester</td>\n",
              "    </tr>\n",
              "    <tr>\n",
              "      <th>3</th>\n",
              "      <td>Lucine</td>\n",
              "      <td>Stutt</td>\n",
              "      <td>Female</td>\n",
              "      <td>64</td>\n",
              "      <td>1979-01-28</td>\n",
              "      <td>Account Representative III</td>\n",
              "      <td>Manufacturing</td>\n",
              "      <td>Affluent Customer</td>\n",
              "      <td>N</td>\n",
              "      <td>True</td>\n",
              "      <td>5</td>\n",
              "      <td>207 Annamark Plaza</td>\n",
              "      <td>4814</td>\n",
              "      <td>QLD</td>\n",
              "      <td>Australia</td>\n",
              "      <td>1</td>\n",
              "      <td>Lucine Stutt</td>\n",
              "    </tr>\n",
              "    <tr>\n",
              "      <th>4</th>\n",
              "      <td>Melinda</td>\n",
              "      <td>Hadlee</td>\n",
              "      <td>Female</td>\n",
              "      <td>34</td>\n",
              "      <td>1965-09-21</td>\n",
              "      <td>Financial Analyst</td>\n",
              "      <td>Financial Services</td>\n",
              "      <td>Affluent Customer</td>\n",
              "      <td>N</td>\n",
              "      <td>True</td>\n",
              "      <td>19</td>\n",
              "      <td>115 Montana Place</td>\n",
              "      <td>2093</td>\n",
              "      <td>NSW</td>\n",
              "      <td>Australia</td>\n",
              "      <td>9</td>\n",
              "      <td>Melinda Hadlee</td>\n",
              "    </tr>\n",
              "  </tbody>\n",
              "</table>\n",
              "</div>"
            ],
            "text/plain": [
              "  first_name  last_name  gender  past_3_years_bike_related_purchases  \\\n",
              "0    Chickie    Brister    Male                                   86   \n",
              "1      Morly     Genery    Male                                   69   \n",
              "2    Ardelis  Forrester  Female                                   10   \n",
              "3     Lucine      Stutt  Female                                   64   \n",
              "4    Melinda     Hadlee  Female                                   34   \n",
              "\n",
              "  birth_date                   job_title job_industry_category  \\\n",
              "0 1957-07-12             General Manager         Manufacturing   \n",
              "1 1970-03-22         Structural Engineer              Property   \n",
              "2 1974-08-28      Senior Cost Accountant    Financial Services   \n",
              "3 1979-01-28  Account Representative III         Manufacturing   \n",
              "4 1965-09-21           Financial Analyst    Financial Services   \n",
              "\n",
              "      wealth_segment deceased_indicator  owns_car  tenure  \\\n",
              "0      Mass Customer                  N      True      14   \n",
              "1      Mass Customer                  N      True      16   \n",
              "2  Affluent Customer                  N      True      10   \n",
              "3  Affluent Customer                  N      True       5   \n",
              "4  Affluent Customer                  N      True      19   \n",
              "\n",
              "               address  postcode state    country  property_valuation  \\\n",
              "0     45 Shopko Center      4500   QLD  Australia                   6   \n",
              "1    14 Mccormick Park      2113   NSW  Australia                  11   \n",
              "2  5 Colorado Crossing      3505   VIC  Australia                   5   \n",
              "3   207 Annamark Plaza      4814   QLD  Australia                   1   \n",
              "4    115 Montana Place      2093   NSW  Australia                   9   \n",
              "\n",
              "           full_name  \n",
              "0    Chickie Brister  \n",
              "1       Morly Genery  \n",
              "2  Ardelis Forrester  \n",
              "3       Lucine Stutt  \n",
              "4     Melinda Hadlee  "
            ]
          },
          "execution_count": 93,
          "metadata": {},
          "output_type": "execute_result"
        }
      ],
      "source": [
        "df_target_customers.head()"
      ]
    },
    {
      "cell_type": "markdown",
      "metadata": {
        "id": "0JeAIFFEFJ6Z"
      },
      "source": [
        "Now we can find matchs."
      ]
    },
    {
      "cell_type": "code",
      "execution_count": 94,
      "metadata": {
        "colab": {
          "base_uri": "https://localhost:8080/",
          "height": 143
        },
        "id": "0bHWNKfK6tc5",
        "outputId": "de130ce2-a1a5-4a48-8b94-77c6a5f34118"
      },
      "outputs": [
        {
          "data": {
            "text/html": [
              "<div>\n",
              "<style scoped>\n",
              "    .dataframe tbody tr th:only-of-type {\n",
              "        vertical-align: middle;\n",
              "    }\n",
              "\n",
              "    .dataframe tbody tr th {\n",
              "        vertical-align: top;\n",
              "    }\n",
              "\n",
              "    .dataframe thead th {\n",
              "        text-align: right;\n",
              "    }\n",
              "</style>\n",
              "<table border=\"1\" class=\"dataframe\">\n",
              "  <thead>\n",
              "    <tr style=\"text-align: right;\">\n",
              "      <th></th>\n",
              "      <th>first_name</th>\n",
              "      <th>last_name</th>\n",
              "      <th>gender_x</th>\n",
              "      <th>past_3_years_bike_related_purchases_x</th>\n",
              "      <th>birth_date</th>\n",
              "      <th>job_title_x</th>\n",
              "      <th>job_industry_category_x</th>\n",
              "      <th>wealth_segment_x</th>\n",
              "      <th>deceased_indicator_x</th>\n",
              "      <th>owns_car_x</th>\n",
              "      <th>...</th>\n",
              "      <th>gender_y</th>\n",
              "      <th>past_3_years_bike_related_purchases_y</th>\n",
              "      <th>DOB</th>\n",
              "      <th>age</th>\n",
              "      <th>job_title_y</th>\n",
              "      <th>job_industry_category_y</th>\n",
              "      <th>wealth_segment_y</th>\n",
              "      <th>deceased_indicator_y</th>\n",
              "      <th>owns_car_y</th>\n",
              "      <th>tenure_y</th>\n",
              "    </tr>\n",
              "  </thead>\n",
              "  <tbody>\n",
              "  </tbody>\n",
              "</table>\n",
              "<p>0 rows × 29 columns</p>\n",
              "</div>"
            ],
            "text/plain": [
              "Empty DataFrame\n",
              "Columns: [first_name, last_name, gender_x, past_3_years_bike_related_purchases_x, birth_date, job_title_x, job_industry_category_x, wealth_segment_x, deceased_indicator_x, owns_car_x, tenure_x, address, postcode, state, country, property_valuation, full_name, customer_id, name, gender_y, past_3_years_bike_related_purchases_y, DOB, age, job_title_y, job_industry_category_y, wealth_segment_y, deceased_indicator_y, owns_car_y, tenure_y]\n",
              "Index: []\n",
              "\n",
              "[0 rows x 29 columns]"
            ]
          },
          "execution_count": 94,
          "metadata": {},
          "output_type": "execute_result"
        }
      ],
      "source": [
        "df_merged = df_target_customers.merge(df_customer_demographic, how='inner', left_on='full_name', right_on='name')\n",
        "df_merged.head()"
      ]
    },
    {
      "cell_type": "markdown",
      "metadata": {
        "id": "afl6TdikGV9M"
      },
      "source": [
        "There are no matchs like expected. So we can confirm that this dataset is about target customers, not current ones."
      ]
    },
    {
      "cell_type": "markdown",
      "metadata": {
        "id": "3rg6oRvbKsHd"
      },
      "source": [
        "## Current Customers\n",
        "\n",
        "Let's merge 'df_customer_demographic' with 'df_customer_address' into one unique and normalized customers dataframe called 'df_customers'."
      ]
    },
    {
      "cell_type": "code",
      "execution_count": 110,
      "metadata": {
        "colab": {
          "base_uri": "https://localhost:8080/",
          "height": 409
        },
        "id": "kNp_9OLeKzAZ",
        "outputId": "b42be93b-58b6-4b45-bba9-d267480f11bf"
      },
      "outputs": [
        {
          "data": {
            "text/html": [
              "<div>\n",
              "<style scoped>\n",
              "    .dataframe tbody tr th:only-of-type {\n",
              "        vertical-align: middle;\n",
              "    }\n",
              "\n",
              "    .dataframe tbody tr th {\n",
              "        vertical-align: top;\n",
              "    }\n",
              "\n",
              "    .dataframe thead th {\n",
              "        text-align: right;\n",
              "    }\n",
              "</style>\n",
              "<table border=\"1\" class=\"dataframe\">\n",
              "  <thead>\n",
              "    <tr style=\"text-align: right;\">\n",
              "      <th></th>\n",
              "      <th>customer_id</th>\n",
              "      <th>name</th>\n",
              "      <th>gender</th>\n",
              "      <th>past_3_years_bike_related_purchases</th>\n",
              "      <th>DOB</th>\n",
              "      <th>age</th>\n",
              "      <th>job_title</th>\n",
              "      <th>job_industry_category</th>\n",
              "      <th>wealth_segment</th>\n",
              "      <th>deceased_indicator</th>\n",
              "      <th>owns_car</th>\n",
              "      <th>tenure</th>\n",
              "      <th>address</th>\n",
              "      <th>postcode</th>\n",
              "      <th>state</th>\n",
              "      <th>country</th>\n",
              "      <th>property_valuation</th>\n",
              "    </tr>\n",
              "  </thead>\n",
              "  <tbody>\n",
              "    <tr>\n",
              "      <th>0</th>\n",
              "      <td>34</td>\n",
              "      <td>Jephthah Bachmann</td>\n",
              "      <td>U</td>\n",
              "      <td>59</td>\n",
              "      <td>1843-12-21</td>\n",
              "      <td>NaN</td>\n",
              "      <td>Legal Assistant</td>\n",
              "      <td>IT</td>\n",
              "      <td>Affluent Customer</td>\n",
              "      <td>N</td>\n",
              "      <td>No</td>\n",
              "      <td>20.0</td>\n",
              "      <td>833 Luster Way</td>\n",
              "      <td>4005.0</td>\n",
              "      <td>QLD</td>\n",
              "      <td>Australia</td>\n",
              "      <td>8.0</td>\n",
              "    </tr>\n",
              "    <tr>\n",
              "      <th>1</th>\n",
              "      <td>144</td>\n",
              "      <td>Jory Barrabeale</td>\n",
              "      <td>U</td>\n",
              "      <td>71</td>\n",
              "      <td>NaT</td>\n",
              "      <td>120.0</td>\n",
              "      <td>Environmental Tech</td>\n",
              "      <td>IT</td>\n",
              "      <td>Mass Customer</td>\n",
              "      <td>N</td>\n",
              "      <td>No</td>\n",
              "      <td>NaN</td>\n",
              "      <td>22 Oxford Junction</td>\n",
              "      <td>2315.0</td>\n",
              "      <td>New South Wales</td>\n",
              "      <td>Australia</td>\n",
              "      <td>3.0</td>\n",
              "    </tr>\n",
              "    <tr>\n",
              "      <th>2</th>\n",
              "      <td>168</td>\n",
              "      <td>Reggie Broggetti</td>\n",
              "      <td>U</td>\n",
              "      <td>8</td>\n",
              "      <td>NaT</td>\n",
              "      <td>120.0</td>\n",
              "      <td>General Manager</td>\n",
              "      <td>IT</td>\n",
              "      <td>Affluent Customer</td>\n",
              "      <td>N</td>\n",
              "      <td>Yes</td>\n",
              "      <td>NaN</td>\n",
              "      <td>16 Golf View Center</td>\n",
              "      <td>3020.0</td>\n",
              "      <td>VIC</td>\n",
              "      <td>Australia</td>\n",
              "      <td>6.0</td>\n",
              "    </tr>\n",
              "    <tr>\n",
              "      <th>3</th>\n",
              "      <td>267</td>\n",
              "      <td>Edgar Buckler</td>\n",
              "      <td>U</td>\n",
              "      <td>53</td>\n",
              "      <td>NaT</td>\n",
              "      <td>120.0</td>\n",
              "      <td>NaN</td>\n",
              "      <td>IT</td>\n",
              "      <td>High Net Worth</td>\n",
              "      <td>N</td>\n",
              "      <td>No</td>\n",
              "      <td>NaN</td>\n",
              "      <td>48 Arizona Drive</td>\n",
              "      <td>2768.0</td>\n",
              "      <td>NSW</td>\n",
              "      <td>Australia</td>\n",
              "      <td>10.0</td>\n",
              "    </tr>\n",
              "    <tr>\n",
              "      <th>4</th>\n",
              "      <td>290</td>\n",
              "      <td>Giorgio Kevane</td>\n",
              "      <td>U</td>\n",
              "      <td>42</td>\n",
              "      <td>NaT</td>\n",
              "      <td>120.0</td>\n",
              "      <td>Senior Sales Associate</td>\n",
              "      <td>IT</td>\n",
              "      <td>Mass Customer</td>\n",
              "      <td>N</td>\n",
              "      <td>No</td>\n",
              "      <td>NaN</td>\n",
              "      <td>6923 Tennessee Circle</td>\n",
              "      <td>2766.0</td>\n",
              "      <td>NSW</td>\n",
              "      <td>Australia</td>\n",
              "      <td>9.0</td>\n",
              "    </tr>\n",
              "  </tbody>\n",
              "</table>\n",
              "</div>"
            ],
            "text/plain": [
              "   customer_id               name gender  past_3_years_bike_related_purchases  \\\n",
              "0           34  Jephthah Bachmann      U                                   59   \n",
              "1          144    Jory Barrabeale      U                                   71   \n",
              "2          168   Reggie Broggetti      U                                    8   \n",
              "3          267      Edgar Buckler      U                                   53   \n",
              "4          290     Giorgio Kevane      U                                   42   \n",
              "\n",
              "         DOB    age               job_title job_industry_category  \\\n",
              "0 1843-12-21    NaN         Legal Assistant                    IT   \n",
              "1        NaT  120.0      Environmental Tech                    IT   \n",
              "2        NaT  120.0         General Manager                    IT   \n",
              "3        NaT  120.0                     NaN                    IT   \n",
              "4        NaT  120.0  Senior Sales Associate                    IT   \n",
              "\n",
              "      wealth_segment deceased_indicator owns_car  tenure  \\\n",
              "0  Affluent Customer                  N       No    20.0   \n",
              "1      Mass Customer                  N       No     NaN   \n",
              "2  Affluent Customer                  N      Yes     NaN   \n",
              "3     High Net Worth                  N       No     NaN   \n",
              "4      Mass Customer                  N       No     NaN   \n",
              "\n",
              "                 address  postcode            state    country  \\\n",
              "0         833 Luster Way    4005.0              QLD  Australia   \n",
              "1     22 Oxford Junction    2315.0  New South Wales  Australia   \n",
              "2    16 Golf View Center    3020.0              VIC  Australia   \n",
              "3       48 Arizona Drive    2768.0              NSW  Australia   \n",
              "4  6923 Tennessee Circle    2766.0              NSW  Australia   \n",
              "\n",
              "   property_valuation  \n",
              "0                 8.0  \n",
              "1                 3.0  \n",
              "2                 6.0  \n",
              "3                10.0  \n",
              "4                 9.0  "
            ]
          },
          "execution_count": 110,
          "metadata": {},
          "output_type": "execute_result"
        }
      ],
      "source": [
        "df_customers = df_customer_demographic.merge(df_customer_address, on='customer_id', how='left')\n",
        "df_customers.head()"
      ]
    },
    {
      "cell_type": "code",
      "execution_count": 96,
      "metadata": {
        "colab": {
          "base_uri": "https://localhost:8080/"
        },
        "id": "SvDFHj8wm9zB",
        "outputId": "0def2698-c58e-461b-a79c-30ae0d06db1c"
      },
      "outputs": [
        {
          "name": "stdout",
          "output_type": "stream",
          "text": [
            "<class 'pandas.core.frame.DataFrame'>\n",
            "Int64Index: 4000 entries, 0 to 3999\n",
            "Data columns (total 17 columns):\n",
            " #   Column                               Non-Null Count  Dtype         \n",
            "---  ------                               --------------  -----         \n",
            " 0   customer_id                          4000 non-null   int64         \n",
            " 1   name                                 4000 non-null   object        \n",
            " 2   gender                               4000 non-null   object        \n",
            " 3   past_3_years_bike_related_purchases  4000 non-null   int64         \n",
            " 4   DOB                                  3913 non-null   datetime64[ns]\n",
            " 5   age                                  3999 non-null   float64       \n",
            " 6   job_title                            3494 non-null   object        \n",
            " 7   job_industry_category                3344 non-null   object        \n",
            " 8   wealth_segment                       4000 non-null   object        \n",
            " 9   deceased_indicator                   4000 non-null   object        \n",
            " 10  owns_car                             4000 non-null   object        \n",
            " 11  tenure                               3913 non-null   float64       \n",
            " 12  address                              3996 non-null   object        \n",
            " 13  postcode                             3996 non-null   float64       \n",
            " 14  state                                3996 non-null   object        \n",
            " 15  country                              3996 non-null   object        \n",
            " 16  property_valuation                   3996 non-null   float64       \n",
            "dtypes: datetime64[ns](1), float64(4), int64(2), object(10)\n",
            "memory usage: 562.5+ KB\n"
          ]
        }
      ],
      "source": [
        "df_customers.info()"
      ]
    },
    {
      "cell_type": "code",
      "execution_count": 97,
      "metadata": {
        "colab": {
          "base_uri": "https://localhost:8080/",
          "height": 300
        },
        "id": "HmrQQfu7nG6E",
        "outputId": "dc3f6f6b-37dc-423c-c754-f8ee31da7912"
      },
      "outputs": [
        {
          "data": {
            "text/html": [
              "<div>\n",
              "<style scoped>\n",
              "    .dataframe tbody tr th:only-of-type {\n",
              "        vertical-align: middle;\n",
              "    }\n",
              "\n",
              "    .dataframe tbody tr th {\n",
              "        vertical-align: top;\n",
              "    }\n",
              "\n",
              "    .dataframe thead th {\n",
              "        text-align: right;\n",
              "    }\n",
              "</style>\n",
              "<table border=\"1\" class=\"dataframe\">\n",
              "  <thead>\n",
              "    <tr style=\"text-align: right;\">\n",
              "      <th></th>\n",
              "      <th>customer_id</th>\n",
              "      <th>past_3_years_bike_related_purchases</th>\n",
              "      <th>age</th>\n",
              "      <th>tenure</th>\n",
              "      <th>postcode</th>\n",
              "      <th>property_valuation</th>\n",
              "    </tr>\n",
              "  </thead>\n",
              "  <tbody>\n",
              "    <tr>\n",
              "      <th>count</th>\n",
              "      <td>4000.000000</td>\n",
              "      <td>4000.000000</td>\n",
              "      <td>3999.000000</td>\n",
              "      <td>3913.000000</td>\n",
              "      <td>3996.000000</td>\n",
              "      <td>3996.000000</td>\n",
              "    </tr>\n",
              "    <tr>\n",
              "      <th>mean</th>\n",
              "      <td>2000.500000</td>\n",
              "      <td>48.890000</td>\n",
              "      <td>44.054514</td>\n",
              "      <td>10.657041</td>\n",
              "      <td>2985.735485</td>\n",
              "      <td>7.514014</td>\n",
              "    </tr>\n",
              "    <tr>\n",
              "      <th>std</th>\n",
              "      <td>1154.844867</td>\n",
              "      <td>28.715005</td>\n",
              "      <td>16.858429</td>\n",
              "      <td>5.660146</td>\n",
              "      <td>844.945641</td>\n",
              "      <td>2.825426</td>\n",
              "    </tr>\n",
              "    <tr>\n",
              "      <th>min</th>\n",
              "      <td>1.000000</td>\n",
              "      <td>0.000000</td>\n",
              "      <td>18.000000</td>\n",
              "      <td>1.000000</td>\n",
              "      <td>2000.000000</td>\n",
              "      <td>1.000000</td>\n",
              "    </tr>\n",
              "    <tr>\n",
              "      <th>25%</th>\n",
              "      <td>1000.750000</td>\n",
              "      <td>24.000000</td>\n",
              "      <td>33.000000</td>\n",
              "      <td>6.000000</td>\n",
              "      <td>2200.000000</td>\n",
              "      <td>6.000000</td>\n",
              "    </tr>\n",
              "    <tr>\n",
              "      <th>50%</th>\n",
              "      <td>2000.500000</td>\n",
              "      <td>48.000000</td>\n",
              "      <td>43.000000</td>\n",
              "      <td>11.000000</td>\n",
              "      <td>2768.000000</td>\n",
              "      <td>8.000000</td>\n",
              "    </tr>\n",
              "    <tr>\n",
              "      <th>75%</th>\n",
              "      <td>3000.250000</td>\n",
              "      <td>73.000000</td>\n",
              "      <td>53.000000</td>\n",
              "      <td>15.000000</td>\n",
              "      <td>3750.000000</td>\n",
              "      <td>10.000000</td>\n",
              "    </tr>\n",
              "    <tr>\n",
              "      <th>max</th>\n",
              "      <td>4000.000000</td>\n",
              "      <td>99.000000</td>\n",
              "      <td>120.000000</td>\n",
              "      <td>22.000000</td>\n",
              "      <td>4883.000000</td>\n",
              "      <td>12.000000</td>\n",
              "    </tr>\n",
              "  </tbody>\n",
              "</table>\n",
              "</div>"
            ],
            "text/plain": [
              "       customer_id  past_3_years_bike_related_purchases          age  \\\n",
              "count  4000.000000                          4000.000000  3999.000000   \n",
              "mean   2000.500000                            48.890000    44.054514   \n",
              "std    1154.844867                            28.715005    16.858429   \n",
              "min       1.000000                             0.000000    18.000000   \n",
              "25%    1000.750000                            24.000000    33.000000   \n",
              "50%    2000.500000                            48.000000    43.000000   \n",
              "75%    3000.250000                            73.000000    53.000000   \n",
              "max    4000.000000                            99.000000   120.000000   \n",
              "\n",
              "            tenure     postcode  property_valuation  \n",
              "count  3913.000000  3996.000000         3996.000000  \n",
              "mean     10.657041  2985.735485            7.514014  \n",
              "std       5.660146   844.945641            2.825426  \n",
              "min       1.000000  2000.000000            1.000000  \n",
              "25%       6.000000  2200.000000            6.000000  \n",
              "50%      11.000000  2768.000000            8.000000  \n",
              "75%      15.000000  3750.000000           10.000000  \n",
              "max      22.000000  4883.000000           12.000000  "
            ]
          },
          "execution_count": 97,
          "metadata": {},
          "output_type": "execute_result"
        }
      ],
      "source": [
        "df_customers.describe()"
      ]
    },
    {
      "cell_type": "code",
      "execution_count": 98,
      "metadata": {
        "colab": {
          "base_uri": "https://localhost:8080/"
        },
        "id": "qMxruDW2nMMj",
        "outputId": "b67ba9b9-a153-4b65-bdb6-9203f60a25f4"
      },
      "outputs": [
        {
          "data": {
            "text/plain": [
              "4000"
            ]
          },
          "execution_count": 98,
          "metadata": {},
          "output_type": "execute_result"
        }
      ],
      "source": [
        "df_customers[\"customer_id\"].unique().size"
      ]
    },
    {
      "cell_type": "markdown",
      "metadata": {
        "id": "sx7K0aYsrYE2"
      },
      "source": [
        "It's a perfect merge."
      ]
    },
    {
      "cell_type": "markdown",
      "metadata": {
        "id": "Db8mlIzNIlWs"
      },
      "source": [
        "Let's fix some column types and names."
      ]
    },
    {
      "cell_type": "code",
      "execution_count": 99,
      "metadata": {
        "id": "0VxnuWI7IlWt"
      },
      "outputs": [],
      "source": [
        "# Fix column types\n",
        "df_customers[\"gender\"] = df_customers[\"gender\"].astype('category')\n",
        "df_customers[\"owns_car\"] = df_customers[\"owns_car\"].astype('bool')\n",
        "# Rename columns\n",
        "df_customers.rename({'DOB' : 'birth_date'}, axis=1, inplace=True)"
      ]
    },
    {
      "cell_type": "markdown",
      "metadata": {
        "id": "Grm5xzKaIup1"
      },
      "source": [
        "### Final dataframe structure\n",
        "\n",
        "This is the final customers dataframe:"
      ]
    },
    {
      "cell_type": "code",
      "execution_count": 100,
      "metadata": {
        "colab": {
          "base_uri": "https://localhost:8080/"
        },
        "id": "PzHOXgaxIzLg",
        "outputId": "3498f28e-84d6-45e4-e011-815b6cfb8fcb"
      },
      "outputs": [
        {
          "name": "stdout",
          "output_type": "stream",
          "text": [
            "<class 'pandas.core.frame.DataFrame'>\n",
            "Int64Index: 4000 entries, 0 to 3999\n",
            "Data columns (total 17 columns):\n",
            " #   Column                               Non-Null Count  Dtype         \n",
            "---  ------                               --------------  -----         \n",
            " 0   customer_id                          4000 non-null   int64         \n",
            " 1   name                                 4000 non-null   object        \n",
            " 2   gender                               4000 non-null   category      \n",
            " 3   past_3_years_bike_related_purchases  4000 non-null   int64         \n",
            " 4   birth_date                           3913 non-null   datetime64[ns]\n",
            " 5   age                                  3999 non-null   float64       \n",
            " 6   job_title                            3494 non-null   object        \n",
            " 7   job_industry_category                3344 non-null   object        \n",
            " 8   wealth_segment                       4000 non-null   object        \n",
            " 9   deceased_indicator                   4000 non-null   object        \n",
            " 10  owns_car                             4000 non-null   bool          \n",
            " 11  tenure                               3913 non-null   float64       \n",
            " 12  address                              3996 non-null   object        \n",
            " 13  postcode                             3996 non-null   float64       \n",
            " 14  state                                3996 non-null   object        \n",
            " 15  country                              3996 non-null   object        \n",
            " 16  property_valuation                   3996 non-null   float64       \n",
            "dtypes: bool(1), category(1), datetime64[ns](1), float64(4), int64(2), object(8)\n",
            "memory usage: 507.9+ KB\n"
          ]
        }
      ],
      "source": [
        "df_customers.info()"
      ]
    },
    {
      "cell_type": "markdown",
      "metadata": {
        "id": "hCMAN-cwr8nX"
      },
      "source": [
        "### Visualizations\n",
        "Now we can explore it a little."
      ]
    },
    {
      "cell_type": "code",
      "execution_count": 101,
      "metadata": {
        "colab": {
          "base_uri": "https://localhost:8080/"
        },
        "id": "GFVjQgANsso7",
        "outputId": "0da15538-60b8-4a51-a986-88a327fea1e9"
      },
      "outputs": [
        {
          "data": {
            "text/plain": [
              "gender\n",
              "Female    2039\n",
              "Male      1873\n",
              "U           88\n",
              "dtype: int64"
            ]
          },
          "execution_count": 101,
          "metadata": {},
          "output_type": "execute_result"
        }
      ],
      "source": [
        "# Customers by gender\n",
        "df_customers.groupby(\"gender\").size()"
      ]
    },
    {
      "cell_type": "markdown",
      "metadata": {
        "id": "zdsLLFAis2Wu"
      },
      "source": [
        "We have 88 customers with 'U' gender. We can assume that stands for 'Unknown'."
      ]
    },
    {
      "cell_type": "code",
      "execution_count": 102,
      "metadata": {
        "colab": {
          "base_uri": "https://localhost:8080/"
        },
        "id": "Xt3byP7Qu0HM",
        "outputId": "983047f9-5b9b-44d9-88e1-b8d61f690bd6"
      },
      "outputs": [
        {
          "data": {
            "text/plain": [
              "gender\n",
              "Female    2039\n",
              "Male      1873\n",
              "U            0\n",
              "dtype: int64"
            ]
          },
          "execution_count": 102,
          "metadata": {},
          "output_type": "execute_result"
        }
      ],
      "source": [
        "# Filter unknown gender\n",
        "df_customers_known_gender = df_customers[df_customers[\"gender\"] != 'U']\n",
        "df_customers_known_gender.groupby(\"gender\").size()"
      ]
    },
    {
      "cell_type": "code",
      "execution_count": 103,
      "metadata": {
        "colab": {
          "base_uri": "https://localhost:8080/",
          "height": 365
        },
        "id": "N35t7H4FnVPu",
        "outputId": "90a1fe00-d71e-4109-8c19-884425e18d19"
      },
      "outputs": [
        {
          "data": {
            "image/png": "[encoded data removed]",
            "text/plain": [
              "<Figure size 436.35x360 with 1 Axes>"
            ]
          },
          "metadata": {},
          "output_type": "display_data"
        }
      ],
      "source": [
        "# Displot\n",
        "plt.rcParams[\"figure.figsize\"] = (8,6)\n",
        "ax = sns.displot(df_customers_known_gender, x=\"age\", hue=\"gender\", element='step', kde=True)\n",
        "#ax.set_ylabel(\"Customer count\")\n",
        "# ax.set_xlabel(\"Age\")\n",
        "# ax.set_title(\"Current customers demogrhapic\", fontsize=20)\n",
        "plt.show()"
      ]
    },
    {
      "cell_type": "markdown",
      "metadata": {
        "id": "VJtwMxoN5JY-"
      },
      "source": [
        "It seems that the largest number of customers are in their 40's and 50's.\n",
        "\n",
        "In addition, a small advantage can be observed in the number of female customers across most age ranges, but in general both genders are even."
      ]
    }
  ],
  "metadata": {
    "colab": {
      "provenance": [],
      "toc_visible": true
    },
    "kernelspec": {
      "display_name": "Python 3.10.7 64-bit",
      "language": "python",
      "name": "python3"
    },
    "language_info": {
      "codemirror_mode": {
        "name": "ipython",
        "version": 3
      },
      "file_extension": ".py",
      "mimetype": "text/x-python",
      "name": "python",
      "nbconvert_exporter": "python",
      "pygments_lexer": "ipython3",
      "version": "3.10.7"
    },
    "orig_nbformat": 4,
    "vscode": {
      "interpreter": {
        "hash": "c63d8c7d738c2960218a10995aedf0a7f67a49a231e71037adf0440953cdb45b"
      }
    }
  },
  "nbformat": 4,
  "nbformat_minor": 0
}
